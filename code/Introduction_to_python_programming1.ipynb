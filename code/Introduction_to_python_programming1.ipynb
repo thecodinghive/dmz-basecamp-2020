{
 "cells": [
  {
   "cell_type": "markdown",
   "metadata": {},
   "source": [
    "<h1>Introduction to Python Programming 1</h1>"
   ]
  },
  {
   "cell_type": "markdown",
   "metadata": {},
   "source": [
    " <h2> 1.0 Syntax</h2>\n",
    "\n",
    "\n",
    "Almost every programming course starts with the most basic \"Hello World!\" program. This program is intended to print the message \"Hello World!\" on the screen. Let's run your first hello world in Python!"
   ]
  },
  {
   "cell_type": "code",
   "execution_count": 2,
   "metadata": {
    "scrolled": true
   },
   "outputs": [
    {
     "name": "stdout",
     "output_type": "stream",
     "text": [
      "Hello Toronto\n"
     ]
    }
   ],
   "source": [
    "# run your first hello world\n",
    "print(\"Hello Toronto\")"
   ]
  },
  {
   "cell_type": "code",
   "execution_count": 0,
   "metadata": {},
   "outputs": [],
   "source": []
  },
  {
   "cell_type": "markdown",
   "metadata": {},
   "source": [
    "Let's break down the above line into smaller components and explain them:\n",
    "\n",
    "#### # run your first hello world\n",
    "\n",
    "This is called a comment. Any line that starts with a `#` is not executed by python and it simply gets displayed on the screen when you are viewing your Python code. This is a very useful way to document what your line of code is meant to do, so anyone who reads it will understand your logic.\n",
    "\n",
    "#### print(   )\n",
    "\n",
    "This is a print function. It prints whatever you pass to it on your screen.\n",
    "\n",
    "#### \"Hello World!\"\n",
    "\n",
    "This is the string we are passing to the print function to print. Try changing it!"
   ]
  },
  {
   "cell_type": "code",
   "execution_count": 3,
   "metadata": {},
   "outputs": [
    {
     "name": "stdout",
     "output_type": "stream",
     "text": [
      "Hello Toronto!\n"
     ]
    }
   ],
   "source": [
    "# let's modify what we pass the print function\n",
    "print(\"Hello Toronto!\")"
   ]
  },
  {
   "cell_type": "markdown",
   "metadata": {},
   "source": [
    "<h2>2.0 Python Variables</h2>\n",
    "\n",
    "The `print()` function above only allows you to print the content on the screen. What if we wanted to save the words \"Hello World!\"? To do that, we can assign the words to a variable. Think of a variable as a container that stores information. "
   ]
  },
  {
   "cell_type": "code",
   "execution_count": 4,
   "metadata": {},
   "outputs": [],
   "source": [
    "sentence = \"Hello Toronto!\""
   ]
  },
  {
   "cell_type": "markdown",
   "metadata": {},
   "source": [
    "Let's break down the above line into smaller components just like we did before!\n",
    "<h4>sentence</h4> This is the variable (container) name\n",
    "<h4>=</h4> Assignment operator. This operator is telling Python to take whatever information positioned to the right of it and save it in the container name to the left of it. \n",
    "<h4>\"Hello Toronto!\"</h4> The content (information) we want to store inside the variable \n",
    "\n",
    "If we want to see the content of <b>sentence</b> we can simply use the print function:"
   ]
  },
  {
   "cell_type": "code",
   "execution_count": 5,
   "metadata": {},
   "outputs": [
    {
     "name": "stdout",
     "output_type": "stream",
     "text": [
      "Hello Toronto!\n"
     ]
    }
   ],
   "source": [
    "print(sentence)"
   ]
  },
  {
   "cell_type": "markdown",
   "metadata": {},
   "source": [
    "We can also overwrite the content of the variable. We simply just call the assignment operator again and assign it new information! "
   ]
  },
  {
   "cell_type": "code",
   "execution_count": 6,
   "metadata": {},
   "outputs": [
    {
     "name": "stdout",
     "output_type": "stream",
     "text": [
      "Hello Vancouver!\n"
     ]
    }
   ],
   "source": [
    "sentence = \"Hello Vancouver!\"\n",
    "print(sentence)"
   ]
  },
  {
   "cell_type": "markdown",
   "metadata": {},
   "source": [
    "<h2>3.0 Data Structures</h2>\n",
    "\n",
    "Python allows users to store data in various forms. Python allows us to create variables that store numbers, characters, or logic. Let's go through some examples to learn how to create these variables and pull elements from them. "
   ]
  },
  {
   "cell_type": "markdown",
   "metadata": {},
   "source": [
    "<h3>3.1 Numbers</h3>\n",
    "\n",
    "There are two types of numerical variables we can create:\n",
    "-  Integers: A whole number with no decimals that can be positive or negative (example: 1, 10, 53500)\n",
    "-  Floats: A number containing one or more decimals (example: 1.2, 3.14, 2.3435)\n",
    "\n",
    "To create these variables, we simply follow the same syntax we used to create the <b>sentence</b> variable above that stores the \"Hello Toronto!\" line, except that this time we will pass it a number."
   ]
  },
  {
   "cell_type": "code",
   "execution_count": 6,
   "metadata": {},
   "outputs": [
    {
     "name": "stdout",
     "output_type": "stream",
     "text": [
      "10\n",
      "13.5\n"
     ]
    }
   ],
   "source": [
    "x = 10     # int\n",
    "y = 13.5   # float\n",
    "\n",
    "#print(x)\n",
    "#print(y)\n",
    "print(x)\n",
    "print(y)"
   ]
  },
  {
   "cell_type": "markdown",
   "metadata": {},
   "source": [
    "We don't need to explicitly tell Python what type of variable we are passing it. It is smart enough to detect that on its own. To find out what Python interpreted the variable as, we can use the <b>type()</b> function. Let's find out what type of variable x and y are:"
   ]
  },
  {
   "cell_type": "code",
   "execution_count": 7,
   "metadata": {},
   "outputs": [
    {
     "name": "stdout",
     "output_type": "stream",
     "text": [
      "<class 'int'>\n",
      "<class 'float'>\n"
     ]
    }
   ],
   "source": [
    "print(type(x))\n",
    "print(type(y))"
   ]
  },
  {
   "cell_type": "markdown",
   "metadata": {},
   "source": [
    "Now that we have created these variables, we can deal with them just like we deal with regular numbers. "
   ]
  },
  {
   "cell_type": "code",
   "execution_count": 10,
   "metadata": {},
   "outputs": [
    {
     "name": "stdout",
     "output_type": "stream",
     "text": [
      "113.5\n",
      "86.5\n",
      "1350.0\n",
      "0.135\n",
      "0.0\n",
      "10000\n",
      "0\n",
      "100.27\n"
     ]
    }
   ],
   "source": [
    "print(x+y)       # addition\n",
    "print(x-y)       # subtraction\n",
    "print(x*y)       # multiplication\n",
    "print(y/x)       # division\n",
    "print(y//x)      # division and rounding\n",
    "print(x**2)      # power x * x or x raised to the power of 2\n",
    "print(x%2)       # modulus operator to find if a number is divisible by 2\n",
    "print(x+y*2/100) # foil"
   ]
  },
  {
   "cell_type": "markdown",
   "metadata": {},
   "source": [
    "What if I want to change the value of `x`? Will the output from the above commands change? "
   ]
  },
  {
   "cell_type": "code",
   "execution_count": 9,
   "metadata": {},
   "outputs": [],
   "source": [
    "x=100\n",
    "\n",
    "# now try running the block above. Do the numbers change? Think about how programming can save us time."
   ]
  },
  {
   "cell_type": "markdown",
   "metadata": {},
   "source": [
    "<h3>3.2 Strings</h3>"
   ]
  },
  {
   "cell_type": "markdown",
   "metadata": {},
   "source": [
    "Just like we created a numeric variable, we can also create a character variable. "
   ]
  },
  {
   "cell_type": "code",
   "execution_count": 11,
   "metadata": {},
   "outputs": [],
   "source": [
    "word=\"Toronto\"                                                                             # a single word\n",
    "sentence=\"I love Toronto!\"                                                                 # a sentence\n",
    "sentence_with_numbers=\"The CN Tower is 553.33 metres tall. It took 40 months to build it.\" # a sentence with numbers"
   ]
  },
  {
   "cell_type": "markdown",
   "metadata": {},
   "source": [
    "Let's see what Python interprets these variables as: (hint: `type()` function)"
   ]
  },
  {
   "cell_type": "code",
   "execution_count": 12,
   "metadata": {},
   "outputs": [
    {
     "name": "stdout",
     "output_type": "stream",
     "text": [
      "<class 'str'>\n",
      "<class 'str'>\n",
      "<class 'str'>\n"
     ]
    }
   ],
   "source": [
    "print(type(word))\n",
    "print(type(sentence))\n",
    "print(type(sentence_with_numbers)) # if a number is wrapped with \"\", then it is seen as a character and not a number"
   ]
  },
  {
   "cell_type": "markdown",
   "metadata": {},
   "source": [
    "The operators that we used with numeric variables will not work the same way with character strings. "
   ]
  },
  {
   "cell_type": "code",
   "execution_count": 14,
   "metadata": {},
   "outputs": [
    {
     "name": "stdout",
     "output_type": "stream",
     "text": [
      "TorontoI love Toronto!\n",
      "TorontoTorontoToronto\n"
     ]
    },
    {
     "ename": "TypeError",
     "evalue": "must be str, not int",
     "output_type": "error",
     "traceback": [
      "\u001b[0;31m---------------------------------------------------------------------------\u001b[0m",
      "\u001b[0;31mTypeError\u001b[0m                                 Traceback (most recent call last)",
      "\u001b[0;32m<ipython-input-14-1eef0e95656b>\u001b[0m in \u001b[0;36m<module>\u001b[0;34m()\u001b[0m\n\u001b[1;32m      1\u001b[0m \u001b[0mprint\u001b[0m\u001b[0;34m(\u001b[0m\u001b[0mword\u001b[0m \u001b[0;34m+\u001b[0m \u001b[0msentence\u001b[0m\u001b[0;34m)\u001b[0m \u001b[0;31m# the + sign is working as a concatenator\u001b[0m\u001b[0;34m\u001b[0m\u001b[0;34m\u001b[0m\u001b[0m\n\u001b[1;32m      2\u001b[0m \u001b[0mprint\u001b[0m\u001b[0;34m(\u001b[0m\u001b[0mword\u001b[0m \u001b[0;34m*\u001b[0m  \u001b[0;36m3\u001b[0m\u001b[0;34m)\u001b[0m         \u001b[0;31m# the * repeats the variable n times\u001b[0m\u001b[0;34m\u001b[0m\u001b[0;34m\u001b[0m\u001b[0m\n\u001b[0;32m----> 3\u001b[0;31m \u001b[0mprint\u001b[0m\u001b[0;34m(\u001b[0m\u001b[0mword\u001b[0m\u001b[0;34m+\u001b[0m\u001b[0;36m3\u001b[0m\u001b[0;34m)\u001b[0m          \u001b[0;31m# will raise an error. Let's go through the error message to understand what happened\u001b[0m\u001b[0;34m\u001b[0m\u001b[0;34m\u001b[0m\u001b[0m\n\u001b[0m",
      "\u001b[0;31mTypeError\u001b[0m: must be str, not int"
     ]
    }
   ],
   "source": [
    "print(word + sentence) # the + sign is working as a concatenator \n",
    "print(word *  3)         # the * repeats the variable n times\n",
    "print(word+3)          # will raise an error. Let's go through the error message to understand what happened"
   ]
  },
  {
   "cell_type": "markdown",
   "metadata": {},
   "source": [
    "<h3>3.3 Data Type Conversion</h3>"
   ]
  },
  {
   "cell_type": "markdown",
   "metadata": {},
   "source": [
    "If for some reason Python did not interpret your variable correctly, you can always change its type yourself. Here are some examples:"
   ]
  },
  {
   "cell_type": "code",
   "execution_count": 16,
   "metadata": {},
   "outputs": [
    {
     "name": "stdout",
     "output_type": "stream",
     "text": [
      "<class 'str'>\n"
     ]
    }
   ],
   "source": [
    "number=\"3\"\n",
    "print(type(number))             # this is a character string since it is wrapped with \"\""
   ]
  },
  {
   "cell_type": "code",
   "execution_count": 17,
   "metadata": {},
   "outputs": [
    {
     "name": "stdout",
     "output_type": "stream",
     "text": [
      "<class 'int'>\n"
     ]
    }
   ],
   "source": [
    "number_corrected = int(number) # convert it to a number\n",
    "print(type(number_corrected))  # let's check the type now"
   ]
  },
  {
   "cell_type": "code",
   "execution_count": 18,
   "metadata": {},
   "outputs": [
    {
     "ename": "TypeError",
     "evalue": "must be str, not int",
     "output_type": "error",
     "traceback": [
      "\u001b[0;31m---------------------------------------------------------------------------\u001b[0m",
      "\u001b[0;31mTypeError\u001b[0m                                 Traceback (most recent call last)",
      "\u001b[0;32m<ipython-input-18-dc6b511715fe>\u001b[0m in \u001b[0;36m<module>\u001b[0;34m()\u001b[0m\n\u001b[0;32m----> 1\u001b[0;31m \u001b[0mprint\u001b[0m\u001b[0;34m(\u001b[0m\u001b[0mnumber\u001b[0m\u001b[0;34m+\u001b[0m\u001b[0;36m3\u001b[0m\u001b[0;34m)\u001b[0m                \u001b[0;31m# we can't add numbers to strings\u001b[0m\u001b[0;34m\u001b[0m\u001b[0;34m\u001b[0m\u001b[0m\n\u001b[0m",
      "\u001b[0;31mTypeError\u001b[0m: must be str, not int"
     ]
    }
   ],
   "source": [
    "print(number+3)                # we can't add numbers to strings"
   ]
  },
  {
   "cell_type": "code",
   "execution_count": 19,
   "metadata": {},
   "outputs": [
    {
     "name": "stdout",
     "output_type": "stream",
     "text": [
      "6\n"
     ]
    }
   ],
   "source": [
    "print(number_corrected+3) # now we can since we fixed the type"
   ]
  },
  {
   "cell_type": "markdown",
   "metadata": {},
   "source": [
    "Here are the other conversion functions that we can use:\n",
    "-  `int()`\n",
    "-  `float()`\n",
    "-  `str()`\n",
    "\n",
    "Let's take a few minutes to try converting variables!"
   ]
  },
  {
   "cell_type": "code",
   "execution_count": 23,
   "metadata": {},
   "outputs": [],
   "source": [
    "# try creating variables here and change their type\n",
    "\n",
    "\n",
    "\n",
    "\n"
   ]
  },
  {
   "cell_type": "markdown",
   "metadata": {},
   "source": [
    "<h3>3.4 List</h3>"
   ]
  },
  {
   "cell_type": "markdown",
   "metadata": {},
   "source": [
    "So far, we have been creating single variables. We can also combine these variables in a data structure called <b>List</b>. \n",
    "\n",
    "<h4> List Creation </h4>"
   ]
  },
  {
   "cell_type": "code",
   "execution_count": 20,
   "metadata": {},
   "outputs": [
    {
     "name": "stdout",
     "output_type": "stream",
     "text": [
      "<class 'list'>\n",
      "<class 'list'>\n",
      "<class 'list'>\n",
      "<class 'list'>\n",
      "['Cindy', 'Adam', 'Steve', 'Stephanie', 'Ali', 'Matt', 'Connie', 'Katie', 'Michelle', 'Eric']\n"
     ]
    }
   ],
   "source": [
    "users = [\"Cindy\", \"Adam\", \"Steve\",\"Stephanie\",\"Ali\",\"Matt\",\"Connie\",\"Katie\",\"Michelle\",\"Eric\"] # a collection of character strings\n",
    "posts_per_month  = [30,0,20,10,50,5,10,11,14,3]                                                # numeric variables\n",
    "used_stories = [True, False, True, True, True,False,True,True,True,False]                      # boolean\n",
    "mixed_types = [\"Cindy\",30,True]\n",
    "\n",
    "print(type(users))\n",
    "print(type(posts_per_month))\n",
    "print(type(used_stories))\n",
    "print(type(mixed_types))\n",
    "\n",
    "print(users)"
   ]
  },
  {
   "cell_type": "code",
   "execution_count": 22,
   "metadata": {},
   "outputs": [
    {
     "name": "stdout",
     "output_type": "stream",
     "text": [
      "['Cindy', 'Adam', 'Steve', 'Stephanie', 'Ali', 'Matt', 'Connie', 'Katie', 'Michelle', 'Eric']\n"
     ]
    }
   ],
   "source": []
  },
  {
   "cell_type": "markdown",
   "metadata": {},
   "source": [
    "<h4> List Slicing </h4>\n",
    "\n",
    "If we are interested in a certain element within the List, we can pull that element out by specifying its <b>index</b>"
   ]
  },
  {
   "cell_type": "code",
   "execution_count": 23,
   "metadata": {},
   "outputs": [
    {
     "name": "stdout",
     "output_type": "stream",
     "text": [
      "Adam\n",
      "['Cindy', 'Adam', 'Steve']\n",
      "Michelle\n"
     ]
    }
   ],
   "source": [
    "print(users[1])\n",
    "print(users[0:3])\n",
    "print(users[-2])"
   ]
  },
  {
   "cell_type": "code",
   "execution_count": 0,
   "metadata": {},
   "outputs": [],
   "source": []
  },
  {
   "cell_type": "markdown",
   "metadata": {},
   "source": [
    "<h4>Appending to a List</h4>\n",
    "\n",
    "You can add elements to the list using the <b>`append`</b> method in lists."
   ]
  },
  {
   "cell_type": "code",
   "execution_count": 24,
   "metadata": {},
   "outputs": [
    {
     "name": "stdout",
     "output_type": "stream",
     "text": [
      "['Cindy', 'Adam', 'Steve', 'Stephanie', 'Ali', 'Matt', 'Connie', 'Katie', 'Michelle', 'Eric', 'Sara']\n",
      "[30, 0, 20, 10, 50, 5, 10, 11, 14, 3, 2]\n",
      "[True, False, True, True, True, False, True, True, True, False, False]\n"
     ]
    }
   ],
   "source": [
    "users.append('Sara')                # we just added a new user to the list\n",
    "posts_per_month.append(2)           # we just added a new post_per_month record to the list\n",
    "used_stories.append(False)          # we just added a new used_stories indicator to the list\n",
    "\n",
    "print(users)\n",
    "print(posts_per_month)\n",
    "print(used_stories)"
   ]
  },
  {
   "cell_type": "code",
   "execution_count": 0,
   "metadata": {},
   "outputs": [],
   "source": []
  },
  {
   "cell_type": "markdown",
   "metadata": {},
   "source": [
    "We can also add multiple new entries to list by using concatenation."
   ]
  },
  {
   "cell_type": "code",
   "execution_count": 25,
   "metadata": {},
   "outputs": [
    {
     "name": "stdout",
     "output_type": "stream",
     "text": [
      "['Cindy', 'Adam', 'Steve', 'Stephanie', 'Ali', 'Matt', 'Connie', 'Katie', 'Michelle', 'Eric', 'Sara', 'Lee', 'Raymond']\n"
     ]
    }
   ],
   "source": [
    "users = users + ['Lee','Raymond'] # we appended multiple items to the list. Notice that we had to re-define the list names\n",
    "print(users)"
   ]
  },
  {
   "cell_type": "markdown",
   "metadata": {},
   "source": [
    "<h4>List Length</h4>\n",
    "\n",
    "\n",
    "We can use the <b>len()</b> function to find out how many elements there are in a list. "
   ]
  },
  {
   "cell_type": "code",
   "execution_count": 26,
   "metadata": {},
   "outputs": [
    {
     "name": "stdout",
     "output_type": "stream",
     "text": [
      "The users list contains 13 users\n",
      "The posts_per_month list contains 11 records\n"
     ]
    }
   ],
   "source": [
    "print('The users list contains ' + str(len(users)) + ' users')\n",
    "print('The posts_per_month list contains ' + str(len(posts_per_month)) + ' records')\n"
   ]
  },
  {
   "cell_type": "markdown",
   "metadata": {},
   "source": [
    "<h4>Sorting a List</h4>\n",
    "\n",
    "Since we have multiple elements in a list, we can sort them in various ways."
   ]
  },
  {
   "cell_type": "code",
   "execution_count": 24,
   "metadata": {},
   "outputs": [
    {
     "name": "stdout",
     "output_type": "stream",
     "text": [
      "['Adam', 'Ali', 'Cindy', 'Connie', 'Eric', 'Katie', 'Lee', 'Matt', 'Michelle', 'Raymond', 'Stephanie', 'Steve']\n",
      "[50, 30, 20, 14, 11, 10, 10, 5, 3, 0]\n",
      "['Adam', 'Ali', 'Cindy', 'Connie', 'Eric', 'Katie', 'Lee', 'Matt', 'Michelle', 'Raymond', 'Stephanie', 'Steve']\n",
      "['Steve', 'Stephanie', 'Raymond', 'Michelle', 'Matt', 'Lee', 'Katie', 'Eric', 'Connie', 'Cindy', 'Ali', 'Adam']\n"
     ]
    }
   ],
   "source": [
    "# numerical sorting\n",
    "users.sort()             # we are calling a sorting method inside list to sort our values\n",
    "print(users)\n",
    "\n",
    "posts_per_month.sort(reverse=True) # sort numbers in reverse\n",
    "print(posts_per_month)\n",
    "\n",
    "# alphabetical sorting\n",
    "users.sort()\n",
    "print(users)\n",
    "\n",
    "users.sort(reverse=True)\n",
    "print(users)"
   ]
  },
  {
   "cell_type": "markdown",
   "metadata": {},
   "source": [
    "<h4>Other Useful List Methods</h4>\n",
    "\n",
    "In addition to sorting, there are other avilable methods that are very useful:\n",
    "-  `clear()` Removes all the elements from the list\n",
    "-  `copy()` Returns a copy of the list\n",
    "-  `count()` Returns the number of elements with the specified value\n",
    "-  `extend()` Add the elements of a list (or any iterable), to the end of the current list\n",
    "-  `index()` Returns the index of the first element with the specified value\n",
    "-  `insert()` Adds an element at the specified position\n",
    "-  `pop()` Removes the element at the specified position\n",
    "-  `remove()` Removes the item with the specified value\n",
    "-  `reverse()` Reverses the order of the list"
   ]
  },
  {
   "cell_type": "code",
   "execution_count": 25,
   "metadata": {},
   "outputs": [
    {
     "name": "stdout",
     "output_type": "stream",
     "text": [
      "['Steve', 'Stephanie', 'Raymond', 'Michelle', 'Matt', 'Lee', 'Katie', 'Eric', 'Connie', 'Cindy', 'Ali', 'Adam']\n",
      "1\n",
      "['Steve', 'Stephanie', 'Raymond', 'Michelle', 'Matt', 'Lee', 'Katie', 'Eric', 'Connie', 'Cindy', 'Ali', 'Adam']\n",
      "11\n",
      "['Adam', 'Ali', 'Cindy', 'Connie', 'Eric', 'Katie', 'Lee', 'Matt', 'Michelle', 'Raymond', 'Stephanie', 'Steve']\n"
     ]
    }
   ],
   "source": [
    "# count how many Adams are there in the names list\n",
    "print(users)\n",
    "print(users.count('Adam'))\n",
    "\n",
    "# find the index of Adam in the list\n",
    "print(users)\n",
    "print(users.index('Adam'))\n",
    "\n",
    "# print the reverse of the names list\n",
    "users.reverse()\n",
    "print(users)\n",
    "\n",
    "# what is the new index of Adam?\n",
    "\n",
    "\n"
   ]
  },
  {
   "cell_type": "code",
   "execution_count": 0,
   "metadata": {},
   "outputs": [],
   "source": []
  }
 ],
 "metadata": {
  "kernelspec": {
   "display_name": "Python 3",
   "language": "python",
   "name": "python3"
  },
  "language_info": {
   "codemirror_mode": {
    "name": "ipython",
    "version": 3
   },
   "file_extension": ".py",
   "mimetype": "text/x-python",
   "name": "python",
   "nbconvert_exporter": "python",
   "pygments_lexer": "ipython3",
   "version": "3.7.1"
  }
 },
 "nbformat": 4,
 "nbformat_minor": 4
}
