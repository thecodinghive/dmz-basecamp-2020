{
 "cells": [
  {
   "cell_type": "markdown",
   "metadata": {},
   "source": [
    "<h1>Introduction to Python Programming 2</h1>"
   ]
  },
  {
   "cell_type": "markdown",
   "metadata": {},
   "source": [
    "<h3>3.5 Data Frames</h3>\n",
    "\n",
    "\n",
    "So far, we have only been working with one dimensional data. Data Frames allow us to combine lists to create two dimesional data. Data Frames are very useful and are widely used in Data Science. The Pandas and Numpy packages in Python provide a set of functions that can be used to create and manage data frames. Let's load these packages first:\n"
   ]
  },
  {
   "cell_type": "code",
   "execution_count": 1,
   "metadata": {},
   "outputs": [],
   "source": [
    "# load packages\n",
    "import numpy as np      # as just creates a shortcut so next time we call this package we don't have specify the full name\n",
    "import pandas as pd"
   ]
  },
  {
   "cell_type": "markdown",
   "metadata": {},
   "source": [
    "<h4>3.5.1 Creating a Data Frame</h4>\n",
    "\n",
    "One easy way to create a data frame is by using the DataFrame() Function in the pandas package. \n",
    "\n"
   ]
  },
  {
   "cell_type": "code",
   "execution_count": 2,
   "metadata": {},
   "outputs": [
    {
     "name": "stdout",
     "output_type": "stream",
     "text": [
      "[True, False, True, True, True, False, True, True, True, False]\n",
      "[30, 0, 20, 10, 50, 5, 10, 11, 2400, 3]\n"
     ]
    }
   ],
   "source": [
    "# first let's define the individual components\n",
    "users = [\"Cindy\", \"Adam\", \"Steve\", \"Stephanie\", \"Ali\", \"Matt\", \"Connie\", \"Katie\", \"Michelle\", \"Eric\"]  # a collection of character strings\n",
    "posts_per_month  = [30, 0, 20, 10, 50, 5, 10, 11, 2400, 3]                                              # numeric variables\n",
    "used_stories = [True, False, True, True, True, False, True, True, True, False]                          # boolean\n",
    "\n",
    "print(used_stories)\n",
    "print(posts_per_month)"
   ]
  },
  {
   "cell_type": "code",
   "execution_count": 3,
   "metadata": {},
   "outputs": [
    {
     "data": {
      "text/plain": [
       "[['Cindy',\n",
       "  'Adam',\n",
       "  'Steve',\n",
       "  'Stephanie',\n",
       "  'Ali',\n",
       "  'Matt',\n",
       "  'Connie',\n",
       "  'Katie',\n",
       "  'Michelle',\n",
       "  'Eric'],\n",
       " [30, 0, 20, 10, 50, 5, 10, 11, 2400, 3],\n",
       " [True, False, True, True, True, False, True, True, True, False]]"
      ]
     },
     "execution_count": 3,
     "metadata": {},
     "output_type": "execute_result"
    }
   ],
   "source": [
    "# now let's combine them in a big list\n",
    "combined_list = [users, posts_per_month, used_stories]\n",
    "combined_list"
   ]
  },
  {
   "cell_type": "code",
   "execution_count": 4,
   "metadata": {},
   "outputs": [
    {
     "data": {
      "text/html": [
       "<div>\n",
       "<style scoped>\n",
       "    .dataframe tbody tr th:only-of-type {\n",
       "        vertical-align: middle;\n",
       "    }\n",
       "\n",
       "    .dataframe tbody tr th {\n",
       "        vertical-align: top;\n",
       "    }\n",
       "\n",
       "    .dataframe thead th {\n",
       "        text-align: right;\n",
       "    }\n",
       "</style>\n",
       "<table border=\"1\" class=\"dataframe\">\n",
       "  <thead>\n",
       "    <tr style=\"text-align: right;\">\n",
       "      <th></th>\n",
       "      <th>0</th>\n",
       "      <th>1</th>\n",
       "      <th>2</th>\n",
       "      <th>3</th>\n",
       "      <th>4</th>\n",
       "      <th>5</th>\n",
       "      <th>6</th>\n",
       "      <th>7</th>\n",
       "      <th>8</th>\n",
       "      <th>9</th>\n",
       "    </tr>\n",
       "  </thead>\n",
       "  <tbody>\n",
       "    <tr>\n",
       "      <th>0</th>\n",
       "      <td>Cindy</td>\n",
       "      <td>Adam</td>\n",
       "      <td>Steve</td>\n",
       "      <td>Stephanie</td>\n",
       "      <td>Ali</td>\n",
       "      <td>Matt</td>\n",
       "      <td>Connie</td>\n",
       "      <td>Katie</td>\n",
       "      <td>Michelle</td>\n",
       "      <td>Eric</td>\n",
       "    </tr>\n",
       "    <tr>\n",
       "      <th>1</th>\n",
       "      <td>30</td>\n",
       "      <td>0</td>\n",
       "      <td>20</td>\n",
       "      <td>10</td>\n",
       "      <td>50</td>\n",
       "      <td>5</td>\n",
       "      <td>10</td>\n",
       "      <td>11</td>\n",
       "      <td>2400</td>\n",
       "      <td>3</td>\n",
       "    </tr>\n",
       "    <tr>\n",
       "      <th>2</th>\n",
       "      <td>True</td>\n",
       "      <td>False</td>\n",
       "      <td>True</td>\n",
       "      <td>True</td>\n",
       "      <td>True</td>\n",
       "      <td>False</td>\n",
       "      <td>True</td>\n",
       "      <td>True</td>\n",
       "      <td>True</td>\n",
       "      <td>False</td>\n",
       "    </tr>\n",
       "  </tbody>\n",
       "</table>\n",
       "</div>"
      ],
      "text/plain": [
       "       0      1      2          3     4      5       6      7         8      9\n",
       "0  Cindy   Adam  Steve  Stephanie   Ali   Matt  Connie  Katie  Michelle   Eric\n",
       "1     30      0     20         10    50      5      10     11      2400      3\n",
       "2   True  False   True       True  True  False    True   True      True  False"
      ]
     },
     "execution_count": 4,
     "metadata": {},
     "output_type": "execute_result"
    }
   ],
   "source": [
    "# now let's convert the combined list to a data frame\n",
    "combined_df = pd.DataFrame(combined_list)\n",
    "\n",
    "# let's take a look at the data frame\n",
    "combined_df"
   ]
  },
  {
   "cell_type": "code",
   "execution_count": 0,
   "metadata": {},
   "outputs": [],
   "source": [
    "combined_df."
   ]
  },
  {
   "cell_type": "code",
   "execution_count": 5,
   "metadata": {},
   "outputs": [
    {
     "data": {
      "text/html": [
       "<div>\n",
       "<style scoped>\n",
       "    .dataframe tbody tr th:only-of-type {\n",
       "        vertical-align: middle;\n",
       "    }\n",
       "\n",
       "    .dataframe tbody tr th {\n",
       "        vertical-align: top;\n",
       "    }\n",
       "\n",
       "    .dataframe thead th {\n",
       "        text-align: right;\n",
       "    }\n",
       "</style>\n",
       "<table border=\"1\" class=\"dataframe\">\n",
       "  <thead>\n",
       "    <tr style=\"text-align: right;\">\n",
       "      <th></th>\n",
       "      <th>0</th>\n",
       "      <th>1</th>\n",
       "      <th>2</th>\n",
       "    </tr>\n",
       "  </thead>\n",
       "  <tbody>\n",
       "    <tr>\n",
       "      <th>0</th>\n",
       "      <td>Cindy</td>\n",
       "      <td>30</td>\n",
       "      <td>True</td>\n",
       "    </tr>\n",
       "    <tr>\n",
       "      <th>1</th>\n",
       "      <td>Adam</td>\n",
       "      <td>0</td>\n",
       "      <td>False</td>\n",
       "    </tr>\n",
       "    <tr>\n",
       "      <th>2</th>\n",
       "      <td>Steve</td>\n",
       "      <td>20</td>\n",
       "      <td>True</td>\n",
       "    </tr>\n",
       "    <tr>\n",
       "      <th>3</th>\n",
       "      <td>Stephanie</td>\n",
       "      <td>10</td>\n",
       "      <td>True</td>\n",
       "    </tr>\n",
       "    <tr>\n",
       "      <th>4</th>\n",
       "      <td>Ali</td>\n",
       "      <td>50</td>\n",
       "      <td>True</td>\n",
       "    </tr>\n",
       "    <tr>\n",
       "      <th>5</th>\n",
       "      <td>Matt</td>\n",
       "      <td>5</td>\n",
       "      <td>False</td>\n",
       "    </tr>\n",
       "    <tr>\n",
       "      <th>6</th>\n",
       "      <td>Connie</td>\n",
       "      <td>10</td>\n",
       "      <td>True</td>\n",
       "    </tr>\n",
       "    <tr>\n",
       "      <th>7</th>\n",
       "      <td>Katie</td>\n",
       "      <td>11</td>\n",
       "      <td>True</td>\n",
       "    </tr>\n",
       "    <tr>\n",
       "      <th>8</th>\n",
       "      <td>Michelle</td>\n",
       "      <td>2400</td>\n",
       "      <td>True</td>\n",
       "    </tr>\n",
       "    <tr>\n",
       "      <th>9</th>\n",
       "      <td>Eric</td>\n",
       "      <td>3</td>\n",
       "      <td>False</td>\n",
       "    </tr>\n",
       "  </tbody>\n",
       "</table>\n",
       "</div>"
      ],
      "text/plain": [
       "           0     1      2\n",
       "0      Cindy    30   True\n",
       "1       Adam     0  False\n",
       "2      Steve    20   True\n",
       "3  Stephanie    10   True\n",
       "4        Ali    50   True\n",
       "5       Matt     5  False\n",
       "6     Connie    10   True\n",
       "7      Katie    11   True\n",
       "8   Michelle  2400   True\n",
       "9       Eric     3  False"
      ]
     },
     "execution_count": 5,
     "metadata": {},
     "output_type": "execute_result"
    }
   ],
   "source": [
    "# Can we transpose it?\n",
    "combined_df_tr = combined_df.transpose() # transpose is a method for data frames\n",
    "combined_df_tr"
   ]
  },
  {
   "cell_type": "code",
   "execution_count": 6,
   "metadata": {},
   "outputs": [
    {
     "data": {
      "text/plain": [
       "RangeIndex(start=0, stop=3, step=1)"
      ]
     },
     "execution_count": 6,
     "metadata": {},
     "output_type": "execute_result"
    }
   ],
   "source": [
    "combined_df_tr.columns"
   ]
  },
  {
   "cell_type": "code",
   "execution_count": 7,
   "metadata": {},
   "outputs": [
    {
     "name": "stdout",
     "output_type": "stream",
     "text": [
      "RangeIndex(start=0, stop=3, step=1)\n"
     ]
    },
    {
     "data": {
      "text/html": [
       "<div>\n",
       "<style scoped>\n",
       "    .dataframe tbody tr th:only-of-type {\n",
       "        vertical-align: middle;\n",
       "    }\n",
       "\n",
       "    .dataframe tbody tr th {\n",
       "        vertical-align: top;\n",
       "    }\n",
       "\n",
       "    .dataframe thead th {\n",
       "        text-align: right;\n",
       "    }\n",
       "</style>\n",
       "<table border=\"1\" class=\"dataframe\">\n",
       "  <thead>\n",
       "    <tr style=\"text-align: right;\">\n",
       "      <th></th>\n",
       "      <th>User_Name</th>\n",
       "      <th>Posts_Per_Month</th>\n",
       "      <th>Used_Stories</th>\n",
       "    </tr>\n",
       "  </thead>\n",
       "  <tbody>\n",
       "    <tr>\n",
       "      <th>0</th>\n",
       "      <td>Cindy</td>\n",
       "      <td>30</td>\n",
       "      <td>True</td>\n",
       "    </tr>\n",
       "    <tr>\n",
       "      <th>1</th>\n",
       "      <td>Adam</td>\n",
       "      <td>0</td>\n",
       "      <td>False</td>\n",
       "    </tr>\n",
       "    <tr>\n",
       "      <th>2</th>\n",
       "      <td>Steve</td>\n",
       "      <td>20</td>\n",
       "      <td>True</td>\n",
       "    </tr>\n",
       "    <tr>\n",
       "      <th>3</th>\n",
       "      <td>Stephanie</td>\n",
       "      <td>10</td>\n",
       "      <td>True</td>\n",
       "    </tr>\n",
       "    <tr>\n",
       "      <th>4</th>\n",
       "      <td>Ali</td>\n",
       "      <td>50</td>\n",
       "      <td>True</td>\n",
       "    </tr>\n",
       "    <tr>\n",
       "      <th>5</th>\n",
       "      <td>Matt</td>\n",
       "      <td>5</td>\n",
       "      <td>False</td>\n",
       "    </tr>\n",
       "    <tr>\n",
       "      <th>6</th>\n",
       "      <td>Connie</td>\n",
       "      <td>10</td>\n",
       "      <td>True</td>\n",
       "    </tr>\n",
       "    <tr>\n",
       "      <th>7</th>\n",
       "      <td>Katie</td>\n",
       "      <td>11</td>\n",
       "      <td>True</td>\n",
       "    </tr>\n",
       "    <tr>\n",
       "      <th>8</th>\n",
       "      <td>Michelle</td>\n",
       "      <td>2400</td>\n",
       "      <td>True</td>\n",
       "    </tr>\n",
       "    <tr>\n",
       "      <th>9</th>\n",
       "      <td>Eric</td>\n",
       "      <td>3</td>\n",
       "      <td>False</td>\n",
       "    </tr>\n",
       "  </tbody>\n",
       "</table>\n",
       "</div>"
      ],
      "text/plain": [
       "   User_Name Posts_Per_Month Used_Stories\n",
       "0      Cindy              30         True\n",
       "1       Adam               0        False\n",
       "2      Steve              20         True\n",
       "3  Stephanie              10         True\n",
       "4        Ali              50         True\n",
       "5       Matt               5        False\n",
       "6     Connie              10         True\n",
       "7      Katie              11         True\n",
       "8   Michelle            2400         True\n",
       "9       Eric               3        False"
      ]
     },
     "execution_count": 7,
     "metadata": {},
     "output_type": "execute_result"
    }
   ],
   "source": [
    "# Let's give this data frame more meaningful column names\n",
    "print(combined_df_tr.columns)\n",
    "combined_df_tr.columns = ['User_Name','Posts_Per_Month','Used_Stories']\n",
    "\n",
    "# Print the new data frame\n",
    "combined_df_tr\n"
   ]
  },
  {
   "cell_type": "code",
   "execution_count": 0,
   "metadata": {},
   "outputs": [],
   "source": []
  },
  {
   "cell_type": "markdown",
   "metadata": {},
   "source": [
    "<h4>3.5.2 Slicing a Data Frame</h4>\n",
    "\n",
    "Now that we have created a data frame, we can start subsetting it to pull records that we are interested in. What if we are only interested in users that used stories only?Active users with over 10 posts a month? Users whose name start with the letter S? We can do all of that using the Pandas package!"
   ]
  },
  {
   "cell_type": "code",
   "execution_count": 9,
   "metadata": {},
   "outputs": [
    {
     "data": {
      "text/html": [
       "<div>\n",
       "<style scoped>\n",
       "    .dataframe tbody tr th:only-of-type {\n",
       "        vertical-align: middle;\n",
       "    }\n",
       "\n",
       "    .dataframe tbody tr th {\n",
       "        vertical-align: top;\n",
       "    }\n",
       "\n",
       "    .dataframe thead th {\n",
       "        text-align: right;\n",
       "    }\n",
       "</style>\n",
       "<table border=\"1\" class=\"dataframe\">\n",
       "  <thead>\n",
       "    <tr style=\"text-align: right;\">\n",
       "      <th></th>\n",
       "      <th>User_Name</th>\n",
       "      <th>Posts_Per_Month</th>\n",
       "      <th>Used_Stories</th>\n",
       "    </tr>\n",
       "  </thead>\n",
       "  <tbody>\n",
       "    <tr>\n",
       "      <th>7</th>\n",
       "      <td>Katie</td>\n",
       "      <td>11</td>\n",
       "      <td>True</td>\n",
       "    </tr>\n",
       "    <tr>\n",
       "      <th>8</th>\n",
       "      <td>Michelle</td>\n",
       "      <td>2400</td>\n",
       "      <td>True</td>\n",
       "    </tr>\n",
       "    <tr>\n",
       "      <th>9</th>\n",
       "      <td>Eric</td>\n",
       "      <td>3</td>\n",
       "      <td>False</td>\n",
       "    </tr>\n",
       "  </tbody>\n",
       "</table>\n",
       "</div>"
      ],
      "text/plain": [
       "  User_Name Posts_Per_Month Used_Stories\n",
       "7     Katie              11         True\n",
       "8  Michelle            2400         True\n",
       "9      Eric               3        False"
      ]
     },
     "execution_count": 9,
     "metadata": {},
     "output_type": "execute_result"
    }
   ],
   "source": [
    "# view the first rows\n",
    "#combined_df_tr.head(3)\n",
    "combined_df_tr.tail(3)"
   ]
  },
  {
   "cell_type": "code",
   "execution_count": 10,
   "metadata": {},
   "outputs": [
    {
     "data": {
      "text/html": [
       "<div>\n",
       "<style scoped>\n",
       "    .dataframe tbody tr th:only-of-type {\n",
       "        vertical-align: middle;\n",
       "    }\n",
       "\n",
       "    .dataframe tbody tr th {\n",
       "        vertical-align: top;\n",
       "    }\n",
       "\n",
       "    .dataframe thead th {\n",
       "        text-align: right;\n",
       "    }\n",
       "</style>\n",
       "<table border=\"1\" class=\"dataframe\">\n",
       "  <thead>\n",
       "    <tr style=\"text-align: right;\">\n",
       "      <th></th>\n",
       "      <th>User_Name</th>\n",
       "      <th>Posts_Per_Month</th>\n",
       "      <th>Used_Stories</th>\n",
       "    </tr>\n",
       "  </thead>\n",
       "  <tbody>\n",
       "    <tr>\n",
       "      <th>2</th>\n",
       "      <td>Steve</td>\n",
       "      <td>20</td>\n",
       "      <td>True</td>\n",
       "    </tr>\n",
       "    <tr>\n",
       "      <th>3</th>\n",
       "      <td>Stephanie</td>\n",
       "      <td>10</td>\n",
       "      <td>True</td>\n",
       "    </tr>\n",
       "  </tbody>\n",
       "</table>\n",
       "</div>"
      ],
      "text/plain": [
       "   User_Name Posts_Per_Month Used_Stories\n",
       "2      Steve              20         True\n",
       "3  Stephanie              10         True"
      ]
     },
     "execution_count": 10,
     "metadata": {},
     "output_type": "execute_result"
    }
   ],
   "source": [
    "# pull the second and third row\n",
    "combined_df_tr.loc[[2,3],:]"
   ]
  },
  {
   "cell_type": "code",
   "execution_count": 11,
   "metadata": {},
   "outputs": [
    {
     "data": {
      "text/html": [
       "<div>\n",
       "<style scoped>\n",
       "    .dataframe tbody tr th:only-of-type {\n",
       "        vertical-align: middle;\n",
       "    }\n",
       "\n",
       "    .dataframe tbody tr th {\n",
       "        vertical-align: top;\n",
       "    }\n",
       "\n",
       "    .dataframe thead th {\n",
       "        text-align: right;\n",
       "    }\n",
       "</style>\n",
       "<table border=\"1\" class=\"dataframe\">\n",
       "  <thead>\n",
       "    <tr style=\"text-align: right;\">\n",
       "      <th></th>\n",
       "      <th>User_Name</th>\n",
       "    </tr>\n",
       "  </thead>\n",
       "  <tbody>\n",
       "    <tr>\n",
       "      <th>0</th>\n",
       "      <td>Cindy</td>\n",
       "    </tr>\n",
       "    <tr>\n",
       "      <th>1</th>\n",
       "      <td>Adam</td>\n",
       "    </tr>\n",
       "    <tr>\n",
       "      <th>2</th>\n",
       "      <td>Steve</td>\n",
       "    </tr>\n",
       "    <tr>\n",
       "      <th>3</th>\n",
       "      <td>Stephanie</td>\n",
       "    </tr>\n",
       "    <tr>\n",
       "      <th>4</th>\n",
       "      <td>Ali</td>\n",
       "    </tr>\n",
       "    <tr>\n",
       "      <th>5</th>\n",
       "      <td>Matt</td>\n",
       "    </tr>\n",
       "    <tr>\n",
       "      <th>6</th>\n",
       "      <td>Connie</td>\n",
       "    </tr>\n",
       "    <tr>\n",
       "      <th>7</th>\n",
       "      <td>Katie</td>\n",
       "    </tr>\n",
       "    <tr>\n",
       "      <th>8</th>\n",
       "      <td>Michelle</td>\n",
       "    </tr>\n",
       "    <tr>\n",
       "      <th>9</th>\n",
       "      <td>Eric</td>\n",
       "    </tr>\n",
       "  </tbody>\n",
       "</table>\n",
       "</div>"
      ],
      "text/plain": [
       "   User_Name\n",
       "0      Cindy\n",
       "1       Adam\n",
       "2      Steve\n",
       "3  Stephanie\n",
       "4        Ali\n",
       "5       Matt\n",
       "6     Connie\n",
       "7      Katie\n",
       "8   Michelle\n",
       "9       Eric"
      ]
     },
     "execution_count": 11,
     "metadata": {},
     "output_type": "execute_result"
    }
   ],
   "source": [
    "# pull a specific column\n",
    "combined_df_tr.loc[:,['User_Name']]"
   ]
  },
  {
   "cell_type": "code",
   "execution_count": 12,
   "metadata": {},
   "outputs": [
    {
     "data": {
      "text/html": [
       "<div>\n",
       "<style scoped>\n",
       "    .dataframe tbody tr th:only-of-type {\n",
       "        vertical-align: middle;\n",
       "    }\n",
       "\n",
       "    .dataframe tbody tr th {\n",
       "        vertical-align: top;\n",
       "    }\n",
       "\n",
       "    .dataframe thead th {\n",
       "        text-align: right;\n",
       "    }\n",
       "</style>\n",
       "<table border=\"1\" class=\"dataframe\">\n",
       "  <thead>\n",
       "    <tr style=\"text-align: right;\">\n",
       "      <th></th>\n",
       "      <th>User_Name</th>\n",
       "      <th>Posts_Per_Month</th>\n",
       "    </tr>\n",
       "  </thead>\n",
       "  <tbody>\n",
       "    <tr>\n",
       "      <th>0</th>\n",
       "      <td>Cindy</td>\n",
       "      <td>30</td>\n",
       "    </tr>\n",
       "    <tr>\n",
       "      <th>1</th>\n",
       "      <td>Adam</td>\n",
       "      <td>0</td>\n",
       "    </tr>\n",
       "    <tr>\n",
       "      <th>2</th>\n",
       "      <td>Steve</td>\n",
       "      <td>20</td>\n",
       "    </tr>\n",
       "    <tr>\n",
       "      <th>3</th>\n",
       "      <td>Stephanie</td>\n",
       "      <td>10</td>\n",
       "    </tr>\n",
       "    <tr>\n",
       "      <th>4</th>\n",
       "      <td>Ali</td>\n",
       "      <td>50</td>\n",
       "    </tr>\n",
       "    <tr>\n",
       "      <th>5</th>\n",
       "      <td>Matt</td>\n",
       "      <td>5</td>\n",
       "    </tr>\n",
       "    <tr>\n",
       "      <th>6</th>\n",
       "      <td>Connie</td>\n",
       "      <td>10</td>\n",
       "    </tr>\n",
       "    <tr>\n",
       "      <th>7</th>\n",
       "      <td>Katie</td>\n",
       "      <td>11</td>\n",
       "    </tr>\n",
       "    <tr>\n",
       "      <th>8</th>\n",
       "      <td>Michelle</td>\n",
       "      <td>2400</td>\n",
       "    </tr>\n",
       "    <tr>\n",
       "      <th>9</th>\n",
       "      <td>Eric</td>\n",
       "      <td>3</td>\n",
       "    </tr>\n",
       "  </tbody>\n",
       "</table>\n",
       "</div>"
      ],
      "text/plain": [
       "   User_Name Posts_Per_Month\n",
       "0      Cindy              30\n",
       "1       Adam               0\n",
       "2      Steve              20\n",
       "3  Stephanie              10\n",
       "4        Ali              50\n",
       "5       Matt               5\n",
       "6     Connie              10\n",
       "7      Katie              11\n",
       "8   Michelle            2400\n",
       "9       Eric               3"
      ]
     },
     "execution_count": 12,
     "metadata": {},
     "output_type": "execute_result"
    }
   ],
   "source": [
    "# pull multiple columns and multiple rows\n",
    "combined_df_tr.loc[:,['User_Name','Posts_Per_Month']]"
   ]
  },
  {
   "cell_type": "markdown",
   "metadata": {},
   "source": [
    "<h4>3.5.3 Manipulating a Data Frame</h4>\n"
   ]
  },
  {
   "cell_type": "code",
   "execution_count": 13,
   "metadata": {},
   "outputs": [
    {
     "data": {
      "text/plain": [
       "[120, 30, 100, 200, 250, 55, 120, 90, 80, 60]"
      ]
     },
     "execution_count": 13,
     "metadata": {},
     "output_type": "execute_result"
    }
   ],
   "source": [
    "# adding a new column - first let's define the column\n",
    "internet_speed_megabits = [120,30,100,200,250,55,120,90,80,60]\n",
    "internet_speed_megabits"
   ]
  },
  {
   "cell_type": "code",
   "execution_count": 14,
   "metadata": {},
   "outputs": [
    {
     "data": {
      "text/html": [
       "<div>\n",
       "<style scoped>\n",
       "    .dataframe tbody tr th:only-of-type {\n",
       "        vertical-align: middle;\n",
       "    }\n",
       "\n",
       "    .dataframe tbody tr th {\n",
       "        vertical-align: top;\n",
       "    }\n",
       "\n",
       "    .dataframe thead th {\n",
       "        text-align: right;\n",
       "    }\n",
       "</style>\n",
       "<table border=\"1\" class=\"dataframe\">\n",
       "  <thead>\n",
       "    <tr style=\"text-align: right;\">\n",
       "      <th></th>\n",
       "      <th>User_Name</th>\n",
       "      <th>Posts_Per_Month</th>\n",
       "      <th>Used_Stories</th>\n",
       "      <th>Internet_Speed_Mb</th>\n",
       "    </tr>\n",
       "  </thead>\n",
       "  <tbody>\n",
       "    <tr>\n",
       "      <th>0</th>\n",
       "      <td>Cindy</td>\n",
       "      <td>30</td>\n",
       "      <td>True</td>\n",
       "      <td>120</td>\n",
       "    </tr>\n",
       "    <tr>\n",
       "      <th>1</th>\n",
       "      <td>Adam</td>\n",
       "      <td>0</td>\n",
       "      <td>False</td>\n",
       "      <td>30</td>\n",
       "    </tr>\n",
       "    <tr>\n",
       "      <th>2</th>\n",
       "      <td>Steve</td>\n",
       "      <td>20</td>\n",
       "      <td>True</td>\n",
       "      <td>100</td>\n",
       "    </tr>\n",
       "    <tr>\n",
       "      <th>3</th>\n",
       "      <td>Stephanie</td>\n",
       "      <td>10</td>\n",
       "      <td>True</td>\n",
       "      <td>200</td>\n",
       "    </tr>\n",
       "    <tr>\n",
       "      <th>4</th>\n",
       "      <td>Ali</td>\n",
       "      <td>50</td>\n",
       "      <td>True</td>\n",
       "      <td>250</td>\n",
       "    </tr>\n",
       "    <tr>\n",
       "      <th>5</th>\n",
       "      <td>Matt</td>\n",
       "      <td>5</td>\n",
       "      <td>False</td>\n",
       "      <td>55</td>\n",
       "    </tr>\n",
       "    <tr>\n",
       "      <th>6</th>\n",
       "      <td>Connie</td>\n",
       "      <td>10</td>\n",
       "      <td>True</td>\n",
       "      <td>120</td>\n",
       "    </tr>\n",
       "    <tr>\n",
       "      <th>7</th>\n",
       "      <td>Katie</td>\n",
       "      <td>11</td>\n",
       "      <td>True</td>\n",
       "      <td>90</td>\n",
       "    </tr>\n",
       "    <tr>\n",
       "      <th>8</th>\n",
       "      <td>Michelle</td>\n",
       "      <td>2400</td>\n",
       "      <td>True</td>\n",
       "      <td>80</td>\n",
       "    </tr>\n",
       "    <tr>\n",
       "      <th>9</th>\n",
       "      <td>Eric</td>\n",
       "      <td>3</td>\n",
       "      <td>False</td>\n",
       "      <td>60</td>\n",
       "    </tr>\n",
       "  </tbody>\n",
       "</table>\n",
       "</div>"
      ],
      "text/plain": [
       "   User_Name Posts_Per_Month Used_Stories  Internet_Speed_Mb\n",
       "0      Cindy              30         True                120\n",
       "1       Adam               0        False                 30\n",
       "2      Steve              20         True                100\n",
       "3  Stephanie              10         True                200\n",
       "4        Ali              50         True                250\n",
       "5       Matt               5        False                 55\n",
       "6     Connie              10         True                120\n",
       "7      Katie              11         True                 90\n",
       "8   Michelle            2400         True                 80\n",
       "9       Eric               3        False                 60"
      ]
     },
     "execution_count": 14,
     "metadata": {},
     "output_type": "execute_result"
    }
   ],
   "source": [
    "# then add it to the data frame\n",
    "combined_df_tr['Internet_Speed_Mb']=internet_speed_megabits\n",
    "\n",
    "combined_df_tr"
   ]
  },
  {
   "cell_type": "markdown",
   "metadata": {},
   "source": [
    "<h4>Challenge 1.0: Creating a New Feature</h4>\n",
    "\n",
    "Given that there are 8 bits in 1 byte, can you create a new column called 'Internet_Speed_MB' that measures internet speed as bytes not bits?"
   ]
  },
  {
   "cell_type": "code",
   "execution_count": 22,
   "metadata": {},
   "outputs": [],
   "source": [
    "# Let's check the new score\n",
    "\n",
    "combined_df_tr['Internet_Speed_MB']=combined_df_tr.loc[:,['Internet_Speed_Mb']] / 8"
   ]
  },
  {
   "cell_type": "code",
   "execution_count": 23,
   "metadata": {},
   "outputs": [
    {
     "data": {
      "text/plain": [
       "10.5"
      ]
     },
     "execution_count": 23,
     "metadata": {},
     "output_type": "execute_result"
    }
   ],
   "source": [
    "# You can summarize a specific column in the data frame by calling the data frame methods on that column\n",
    "combined_df_tr['Posts_Per_Month'].median()"
   ]
  },
  {
   "cell_type": "code",
   "execution_count": 24,
   "metadata": {},
   "outputs": [
    {
     "data": {
      "text/plain": [
       "2400"
      ]
     },
     "execution_count": 24,
     "metadata": {},
     "output_type": "execute_result"
    }
   ],
   "source": [
    "# we can also try to find the maximum number of posts within our cohort\n",
    "combined_df_tr['Posts_Per_Month'].max()\n"
   ]
  },
  {
   "cell_type": "code",
   "execution_count": 25,
   "metadata": {},
   "outputs": [
    {
     "data": {
      "text/plain": [
       "Used_Stories\n",
       "False     3\n",
       "True     20\n",
       "Name: Posts_Per_Month, dtype: int64"
      ]
     },
     "execution_count": 25,
     "metadata": {},
     "output_type": "execute_result"
    }
   ],
   "source": [
    "# generate the average number of posts story users vs non story users\n",
    "combined_df_tr['Posts_Per_Month']=combined_df_tr['Posts_Per_Month'].apply(pd.to_numeric)\n",
    "combined_df_tr.groupby('Used_Stories')['Posts_Per_Month'].median()"
   ]
  },
  {
   "cell_type": "markdown",
   "metadata": {},
   "source": [
    "<h4>3.5.4 Advanced Filtering</h4>"
   ]
  },
  {
   "cell_type": "code",
   "execution_count": 26,
   "metadata": {},
   "outputs": [
    {
     "data": {
      "text/html": [
       "<div>\n",
       "<style scoped>\n",
       "    .dataframe tbody tr th:only-of-type {\n",
       "        vertical-align: middle;\n",
       "    }\n",
       "\n",
       "    .dataframe tbody tr th {\n",
       "        vertical-align: top;\n",
       "    }\n",
       "\n",
       "    .dataframe thead th {\n",
       "        text-align: right;\n",
       "    }\n",
       "</style>\n",
       "<table border=\"1\" class=\"dataframe\">\n",
       "  <thead>\n",
       "    <tr style=\"text-align: right;\">\n",
       "      <th></th>\n",
       "      <th>User_Name</th>\n",
       "      <th>Posts_Per_Month</th>\n",
       "      <th>Used_Stories</th>\n",
       "      <th>Internet_Speed_Mb</th>\n",
       "      <th>Internet_Speed_MB</th>\n",
       "    </tr>\n",
       "  </thead>\n",
       "  <tbody>\n",
       "    <tr>\n",
       "      <th>0</th>\n",
       "      <td>Cindy</td>\n",
       "      <td>30</td>\n",
       "      <td>True</td>\n",
       "      <td>120</td>\n",
       "      <td>15.00</td>\n",
       "    </tr>\n",
       "    <tr>\n",
       "      <th>2</th>\n",
       "      <td>Steve</td>\n",
       "      <td>20</td>\n",
       "      <td>True</td>\n",
       "      <td>100</td>\n",
       "      <td>12.50</td>\n",
       "    </tr>\n",
       "    <tr>\n",
       "      <th>4</th>\n",
       "      <td>Ali</td>\n",
       "      <td>50</td>\n",
       "      <td>True</td>\n",
       "      <td>250</td>\n",
       "      <td>31.25</td>\n",
       "    </tr>\n",
       "    <tr>\n",
       "      <th>7</th>\n",
       "      <td>Katie</td>\n",
       "      <td>11</td>\n",
       "      <td>True</td>\n",
       "      <td>90</td>\n",
       "      <td>11.25</td>\n",
       "    </tr>\n",
       "    <tr>\n",
       "      <th>8</th>\n",
       "      <td>Michelle</td>\n",
       "      <td>2400</td>\n",
       "      <td>True</td>\n",
       "      <td>80</td>\n",
       "      <td>10.00</td>\n",
       "    </tr>\n",
       "  </tbody>\n",
       "</table>\n",
       "</div>"
      ],
      "text/plain": [
       "  User_Name  Posts_Per_Month Used_Stories  Internet_Speed_Mb  \\\n",
       "0     Cindy               30         True                120   \n",
       "2     Steve               20         True                100   \n",
       "4       Ali               50         True                250   \n",
       "7     Katie               11         True                 90   \n",
       "8  Michelle             2400         True                 80   \n",
       "\n",
       "   Internet_Speed_MB  \n",
       "0              15.00  \n",
       "2              12.50  \n",
       "4              31.25  \n",
       "7              11.25  \n",
       "8              10.00  "
      ]
     },
     "execution_count": 26,
     "metadata": {},
     "output_type": "execute_result"
    }
   ],
   "source": [
    "# subset users based on number of posts \n",
    "combined_df_tr.loc[combined_df_tr['Posts_Per_Month']>10,:]"
   ]
  },
  {
   "cell_type": "code",
   "execution_count": 17,
   "metadata": {},
   "outputs": [
    {
     "data": {
      "text/plain": [
       "0     True\n",
       "1    False\n",
       "2     True\n",
       "3    False\n",
       "4     True\n",
       "5    False\n",
       "6    False\n",
       "7     True\n",
       "8     True\n",
       "9    False\n",
       "Name: Posts_Per_Month, dtype: bool"
      ]
     },
     "execution_count": 17,
     "metadata": {},
     "output_type": "execute_result"
    }
   ],
   "source": [
    "# let's assess the condition inside the subset statement\n",
    "combined_df_tr['Posts_Per_Month']>10"
   ]
  },
  {
   "cell_type": "code",
   "execution_count": 18,
   "metadata": {},
   "outputs": [
    {
     "data": {
      "text/html": [
       "<div>\n",
       "<style scoped>\n",
       "    .dataframe tbody tr th:only-of-type {\n",
       "        vertical-align: middle;\n",
       "    }\n",
       "\n",
       "    .dataframe tbody tr th {\n",
       "        vertical-align: top;\n",
       "    }\n",
       "\n",
       "    .dataframe thead th {\n",
       "        text-align: right;\n",
       "    }\n",
       "</style>\n",
       "<table border=\"1\" class=\"dataframe\">\n",
       "  <thead>\n",
       "    <tr style=\"text-align: right;\">\n",
       "      <th></th>\n",
       "      <th>User_Name</th>\n",
       "      <th>Posts_Per_Month</th>\n",
       "      <th>Used_Stories</th>\n",
       "      <th>Internet_Speed_Mb</th>\n",
       "    </tr>\n",
       "  </thead>\n",
       "  <tbody>\n",
       "    <tr>\n",
       "      <th>0</th>\n",
       "      <td>Cindy</td>\n",
       "      <td>30</td>\n",
       "      <td>True</td>\n",
       "      <td>120</td>\n",
       "    </tr>\n",
       "    <tr>\n",
       "      <th>2</th>\n",
       "      <td>Steve</td>\n",
       "      <td>20</td>\n",
       "      <td>True</td>\n",
       "      <td>100</td>\n",
       "    </tr>\n",
       "    <tr>\n",
       "      <th>3</th>\n",
       "      <td>Stephanie</td>\n",
       "      <td>10</td>\n",
       "      <td>True</td>\n",
       "      <td>200</td>\n",
       "    </tr>\n",
       "    <tr>\n",
       "      <th>4</th>\n",
       "      <td>Ali</td>\n",
       "      <td>50</td>\n",
       "      <td>True</td>\n",
       "      <td>250</td>\n",
       "    </tr>\n",
       "    <tr>\n",
       "      <th>6</th>\n",
       "      <td>Connie</td>\n",
       "      <td>10</td>\n",
       "      <td>True</td>\n",
       "      <td>120</td>\n",
       "    </tr>\n",
       "    <tr>\n",
       "      <th>7</th>\n",
       "      <td>Katie</td>\n",
       "      <td>11</td>\n",
       "      <td>True</td>\n",
       "      <td>90</td>\n",
       "    </tr>\n",
       "    <tr>\n",
       "      <th>8</th>\n",
       "      <td>Michelle</td>\n",
       "      <td>2400</td>\n",
       "      <td>True</td>\n",
       "      <td>80</td>\n",
       "    </tr>\n",
       "  </tbody>\n",
       "</table>\n",
       "</div>"
      ],
      "text/plain": [
       "   User_Name  Posts_Per_Month Used_Stories  Internet_Speed_Mb\n",
       "0      Cindy               30         True                120\n",
       "2      Steve               20         True                100\n",
       "3  Stephanie               10         True                200\n",
       "4        Ali               50         True                250\n",
       "6     Connie               10         True                120\n",
       "7      Katie               11         True                 90\n",
       "8   Michelle             2400         True                 80"
      ]
     },
     "execution_count": 18,
     "metadata": {},
     "output_type": "execute_result"
    }
   ],
   "source": [
    "# subset story users only\n",
    "combined_df_tr.loc[combined_df_tr['Used_Stories']==True,:]"
   ]
  },
  {
   "cell_type": "code",
   "execution_count": 19,
   "metadata": {},
   "outputs": [
    {
     "data": {
      "text/html": [
       "<div>\n",
       "<style scoped>\n",
       "    .dataframe tbody tr th:only-of-type {\n",
       "        vertical-align: middle;\n",
       "    }\n",
       "\n",
       "    .dataframe tbody tr th {\n",
       "        vertical-align: top;\n",
       "    }\n",
       "\n",
       "    .dataframe thead th {\n",
       "        text-align: right;\n",
       "    }\n",
       "</style>\n",
       "<table border=\"1\" class=\"dataframe\">\n",
       "  <thead>\n",
       "    <tr style=\"text-align: right;\">\n",
       "      <th></th>\n",
       "      <th>User_Name</th>\n",
       "      <th>Posts_Per_Month</th>\n",
       "      <th>Used_Stories</th>\n",
       "      <th>Internet_Speed_Mb</th>\n",
       "    </tr>\n",
       "  </thead>\n",
       "  <tbody>\n",
       "    <tr>\n",
       "      <th>0</th>\n",
       "      <td>Cindy</td>\n",
       "      <td>30</td>\n",
       "      <td>True</td>\n",
       "      <td>120</td>\n",
       "    </tr>\n",
       "    <tr>\n",
       "      <th>2</th>\n",
       "      <td>Steve</td>\n",
       "      <td>20</td>\n",
       "      <td>True</td>\n",
       "      <td>100</td>\n",
       "    </tr>\n",
       "    <tr>\n",
       "      <th>4</th>\n",
       "      <td>Ali</td>\n",
       "      <td>50</td>\n",
       "      <td>True</td>\n",
       "      <td>250</td>\n",
       "    </tr>\n",
       "    <tr>\n",
       "      <th>7</th>\n",
       "      <td>Katie</td>\n",
       "      <td>11</td>\n",
       "      <td>True</td>\n",
       "      <td>90</td>\n",
       "    </tr>\n",
       "    <tr>\n",
       "      <th>8</th>\n",
       "      <td>Michelle</td>\n",
       "      <td>2400</td>\n",
       "      <td>True</td>\n",
       "      <td>80</td>\n",
       "    </tr>\n",
       "  </tbody>\n",
       "</table>\n",
       "</div>"
      ],
      "text/plain": [
       "  User_Name  Posts_Per_Month Used_Stories  Internet_Speed_Mb\n",
       "0     Cindy               30         True                120\n",
       "2     Steve               20         True                100\n",
       "4       Ali               50         True                250\n",
       "7     Katie               11         True                 90\n",
       "8  Michelle             2400         True                 80"
      ]
     },
     "execution_count": 19,
     "metadata": {},
     "output_type": "execute_result"
    }
   ],
   "source": [
    "# subset active users\n",
    "# combined multiple conditions\n",
    "combined_df_tr.loc[(combined_df_tr['Used_Stories']==True) & (combined_df_tr['Posts_Per_Month']>10),: ]\n"
   ]
  },
  {
   "cell_type": "markdown",
   "metadata": {},
   "source": [
    "<h4>Challenge 2.0: Finding Inactive users</h4>\n",
    "\n",
    "Find the subset of users that don't use stories AND post on average < 5 posts a month. "
   ]
  },
  {
   "cell_type": "code",
   "execution_count": 27,
   "metadata": {},
   "outputs": [
    {
     "data": {
      "text/html": [
       "<div>\n",
       "<style scoped>\n",
       "    .dataframe tbody tr th:only-of-type {\n",
       "        vertical-align: middle;\n",
       "    }\n",
       "\n",
       "    .dataframe tbody tr th {\n",
       "        vertical-align: top;\n",
       "    }\n",
       "\n",
       "    .dataframe thead th {\n",
       "        text-align: right;\n",
       "    }\n",
       "</style>\n",
       "<table border=\"1\" class=\"dataframe\">\n",
       "  <thead>\n",
       "    <tr style=\"text-align: right;\">\n",
       "      <th></th>\n",
       "      <th>User_Name</th>\n",
       "      <th>Posts_Per_Month</th>\n",
       "      <th>Used_Stories</th>\n",
       "      <th>Internet_Speed_Mb</th>\n",
       "      <th>Internet_Speed_MB</th>\n",
       "    </tr>\n",
       "  </thead>\n",
       "  <tbody>\n",
       "    <tr>\n",
       "      <th>1</th>\n",
       "      <td>Adam</td>\n",
       "      <td>0</td>\n",
       "      <td>False</td>\n",
       "      <td>30</td>\n",
       "      <td>3.75</td>\n",
       "    </tr>\n",
       "    <tr>\n",
       "      <th>9</th>\n",
       "      <td>Eric</td>\n",
       "      <td>3</td>\n",
       "      <td>False</td>\n",
       "      <td>60</td>\n",
       "      <td>7.50</td>\n",
       "    </tr>\n",
       "  </tbody>\n",
       "</table>\n",
       "</div>"
      ],
      "text/plain": [
       "  User_Name  Posts_Per_Month Used_Stories  Internet_Speed_Mb  \\\n",
       "1      Adam                0        False                 30   \n",
       "9      Eric                3        False                 60   \n",
       "\n",
       "   Internet_Speed_MB  \n",
       "1               3.75  \n",
       "9               7.50  "
      ]
     },
     "execution_count": 27,
     "metadata": {},
     "output_type": "execute_result"
    }
   ],
   "source": [
    "#use the above code as a starting point\n",
    "\n",
    "combined_df_tr.loc[(combined_df_tr['Used_Stories']==False) & (combined_df_tr['Posts_Per_Month']<5),: ]\n"
   ]
  },
  {
   "cell_type": "code",
   "execution_count": 28,
   "metadata": {},
   "outputs": [
    {
     "data": {
      "text/html": [
       "<div>\n",
       "<style scoped>\n",
       "    .dataframe tbody tr th:only-of-type {\n",
       "        vertical-align: middle;\n",
       "    }\n",
       "\n",
       "    .dataframe tbody tr th {\n",
       "        vertical-align: top;\n",
       "    }\n",
       "\n",
       "    .dataframe thead th {\n",
       "        text-align: right;\n",
       "    }\n",
       "</style>\n",
       "<table border=\"1\" class=\"dataframe\">\n",
       "  <thead>\n",
       "    <tr style=\"text-align: right;\">\n",
       "      <th></th>\n",
       "      <th>User_Name</th>\n",
       "      <th>Posts_Per_Month</th>\n",
       "      <th>Used_Stories</th>\n",
       "      <th>Internet_Speed_MB</th>\n",
       "    </tr>\n",
       "  </thead>\n",
       "  <tbody>\n",
       "    <tr>\n",
       "      <th>0</th>\n",
       "      <td>Cindy</td>\n",
       "      <td>30</td>\n",
       "      <td>True</td>\n",
       "      <td>15.000</td>\n",
       "    </tr>\n",
       "    <tr>\n",
       "      <th>1</th>\n",
       "      <td>Adam</td>\n",
       "      <td>0</td>\n",
       "      <td>False</td>\n",
       "      <td>3.750</td>\n",
       "    </tr>\n",
       "    <tr>\n",
       "      <th>2</th>\n",
       "      <td>Steve</td>\n",
       "      <td>20</td>\n",
       "      <td>True</td>\n",
       "      <td>12.500</td>\n",
       "    </tr>\n",
       "    <tr>\n",
       "      <th>3</th>\n",
       "      <td>Stephanie</td>\n",
       "      <td>10</td>\n",
       "      <td>True</td>\n",
       "      <td>25.000</td>\n",
       "    </tr>\n",
       "    <tr>\n",
       "      <th>4</th>\n",
       "      <td>Ali</td>\n",
       "      <td>50</td>\n",
       "      <td>True</td>\n",
       "      <td>31.250</td>\n",
       "    </tr>\n",
       "    <tr>\n",
       "      <th>5</th>\n",
       "      <td>Matt</td>\n",
       "      <td>5</td>\n",
       "      <td>False</td>\n",
       "      <td>6.875</td>\n",
       "    </tr>\n",
       "    <tr>\n",
       "      <th>6</th>\n",
       "      <td>Connie</td>\n",
       "      <td>10</td>\n",
       "      <td>True</td>\n",
       "      <td>15.000</td>\n",
       "    </tr>\n",
       "    <tr>\n",
       "      <th>7</th>\n",
       "      <td>Katie</td>\n",
       "      <td>11</td>\n",
       "      <td>True</td>\n",
       "      <td>11.250</td>\n",
       "    </tr>\n",
       "    <tr>\n",
       "      <th>8</th>\n",
       "      <td>Michelle</td>\n",
       "      <td>2400</td>\n",
       "      <td>True</td>\n",
       "      <td>10.000</td>\n",
       "    </tr>\n",
       "    <tr>\n",
       "      <th>9</th>\n",
       "      <td>Eric</td>\n",
       "      <td>3</td>\n",
       "      <td>False</td>\n",
       "      <td>7.500</td>\n",
       "    </tr>\n",
       "  </tbody>\n",
       "</table>\n",
       "</div>"
      ],
      "text/plain": [
       "   User_Name  Posts_Per_Month Used_Stories  Internet_Speed_MB\n",
       "0      Cindy               30         True             15.000\n",
       "1       Adam                0        False              3.750\n",
       "2      Steve               20         True             12.500\n",
       "3  Stephanie               10         True             25.000\n",
       "4        Ali               50         True             31.250\n",
       "5       Matt                5        False              6.875\n",
       "6     Connie               10         True             15.000\n",
       "7      Katie               11         True             11.250\n",
       "8   Michelle             2400         True             10.000\n",
       "9       Eric                3        False              7.500"
      ]
     },
     "execution_count": 28,
     "metadata": {},
     "output_type": "execute_result"
    }
   ],
   "source": [
    "#drop a column\n",
    "combined_df_tr.drop(columns='Internet_Speed_Mb')"
   ]
  },
  {
   "cell_type": "markdown",
   "metadata": {},
   "source": [
    "<h4>3.5.5 Data Frame Sorting</h4>"
   ]
  },
  {
   "cell_type": "code",
   "execution_count": 23,
   "metadata": {},
   "outputs": [
    {
     "data": {
      "text/html": [
       "<div>\n",
       "<style scoped>\n",
       "    .dataframe tbody tr th:only-of-type {\n",
       "        vertical-align: middle;\n",
       "    }\n",
       "\n",
       "    .dataframe tbody tr th {\n",
       "        vertical-align: top;\n",
       "    }\n",
       "\n",
       "    .dataframe thead th {\n",
       "        text-align: right;\n",
       "    }\n",
       "</style>\n",
       "<table border=\"1\" class=\"dataframe\">\n",
       "  <thead>\n",
       "    <tr style=\"text-align: right;\">\n",
       "      <th></th>\n",
       "      <th>User_Name</th>\n",
       "      <th>Posts_Per_Month</th>\n",
       "      <th>Used_Stories</th>\n",
       "      <th>Internet_Speed_Mb</th>\n",
       "      <th>Internet_Speed_MB</th>\n",
       "    </tr>\n",
       "  </thead>\n",
       "  <tbody>\n",
       "    <tr>\n",
       "      <th>4</th>\n",
       "      <td>Ali</td>\n",
       "      <td>50</td>\n",
       "      <td>True</td>\n",
       "      <td>250</td>\n",
       "      <td>31.250</td>\n",
       "    </tr>\n",
       "    <tr>\n",
       "      <th>3</th>\n",
       "      <td>Stephanie</td>\n",
       "      <td>10</td>\n",
       "      <td>True</td>\n",
       "      <td>200</td>\n",
       "      <td>25.000</td>\n",
       "    </tr>\n",
       "    <tr>\n",
       "      <th>0</th>\n",
       "      <td>Cindy</td>\n",
       "      <td>30</td>\n",
       "      <td>True</td>\n",
       "      <td>120</td>\n",
       "      <td>15.000</td>\n",
       "    </tr>\n",
       "    <tr>\n",
       "      <th>6</th>\n",
       "      <td>Connie</td>\n",
       "      <td>10</td>\n",
       "      <td>True</td>\n",
       "      <td>120</td>\n",
       "      <td>15.000</td>\n",
       "    </tr>\n",
       "    <tr>\n",
       "      <th>2</th>\n",
       "      <td>Steve</td>\n",
       "      <td>20</td>\n",
       "      <td>True</td>\n",
       "      <td>100</td>\n",
       "      <td>12.500</td>\n",
       "    </tr>\n",
       "    <tr>\n",
       "      <th>7</th>\n",
       "      <td>Katie</td>\n",
       "      <td>11</td>\n",
       "      <td>True</td>\n",
       "      <td>90</td>\n",
       "      <td>11.250</td>\n",
       "    </tr>\n",
       "    <tr>\n",
       "      <th>8</th>\n",
       "      <td>Michelle</td>\n",
       "      <td>2400</td>\n",
       "      <td>True</td>\n",
       "      <td>80</td>\n",
       "      <td>10.000</td>\n",
       "    </tr>\n",
       "    <tr>\n",
       "      <th>9</th>\n",
       "      <td>Eric</td>\n",
       "      <td>3</td>\n",
       "      <td>False</td>\n",
       "      <td>60</td>\n",
       "      <td>7.500</td>\n",
       "    </tr>\n",
       "    <tr>\n",
       "      <th>5</th>\n",
       "      <td>Matt</td>\n",
       "      <td>5</td>\n",
       "      <td>False</td>\n",
       "      <td>55</td>\n",
       "      <td>6.875</td>\n",
       "    </tr>\n",
       "    <tr>\n",
       "      <th>1</th>\n",
       "      <td>Adam</td>\n",
       "      <td>0</td>\n",
       "      <td>False</td>\n",
       "      <td>30</td>\n",
       "      <td>3.750</td>\n",
       "    </tr>\n",
       "  </tbody>\n",
       "</table>\n",
       "</div>"
      ],
      "text/plain": [
       "   User_Name  Posts_Per_Month Used_Stories  Internet_Speed_Mb  \\\n",
       "4        Ali               50         True                250   \n",
       "3  Stephanie               10         True                200   \n",
       "0      Cindy               30         True                120   \n",
       "6     Connie               10         True                120   \n",
       "2      Steve               20         True                100   \n",
       "7      Katie               11         True                 90   \n",
       "8   Michelle             2400         True                 80   \n",
       "9       Eric                3        False                 60   \n",
       "5       Matt                5        False                 55   \n",
       "1       Adam                0        False                 30   \n",
       "\n",
       "   Internet_Speed_MB  \n",
       "4             31.250  \n",
       "3             25.000  \n",
       "0             15.000  \n",
       "6             15.000  \n",
       "2             12.500  \n",
       "7             11.250  \n",
       "8             10.000  \n",
       "9              7.500  \n",
       "5              6.875  \n",
       "1              3.750  "
      ]
     },
     "execution_count": 23,
     "metadata": {},
     "output_type": "execute_result"
    }
   ],
   "source": [
    "# Let's sort the data frame by Internet Speed column from high to low\n",
    "\n",
    "combined_df_tr.sort_values(by='Internet_Speed_MB',ascending=False)"
   ]
  },
  {
   "cell_type": "markdown",
   "metadata": {},
   "source": [
    "<h2>4.0 Conditions and Loops</h2>"
   ]
  },
  {
   "cell_type": "markdown",
   "metadata": {},
   "source": [
    "Python allows us to assess logical conditions as follows:\n",
    "\n",
    "-  Equals: `a == b`\n",
    "-  Not Equals: `a != b`\n",
    "-  Less than: `a < b`\n",
    "-  Less than or equal to: `a <= b`\n",
    "-  Greater than: `a > b`\n",
    "-  Greater than or equal to: `a >= b`\n",
    "\n",
    "The output of each of the above logical conditions is `True` or `False`. These conditions can be used in IF statements, For loops, and while loops."
   ]
  },
  {
   "cell_type": "markdown",
   "metadata": {},
   "source": [
    "<h3>4.1 IF</h3>\n",
    "\n",
    "Programming is very useful in turning any decision-making process into an efficient and reproducible process. Decision-making usually involves the following steps:\n",
    "\n",
    "-  Information collection\n",
    "-  Coming up with logic\n",
    "-  Definining actions for each logic\n",
    "\n",
    "If statements allow us to build code that executes certain actions depending on the values of the information collected. For example, if we want to write a piece of code that decides whether a number is positive, negative or 0, we can construct it the following way (note the indentation):"
   ]
  },
  {
   "cell_type": "code",
   "execution_count": 23,
   "metadata": {},
   "outputs": [
    {
     "name": "stdout",
     "output_type": "stream",
     "text": [
      "input is zero!\n"
     ]
    }
   ],
   "source": [
    "input=0                          # information collection\n",
    "\n",
    "if (input > 0):                   # logic definition\n",
    "     print('input is positive!')   # action\n",
    "    #print('something else')\n",
    "elif(input < 0):                  # alternative logic\n",
    "    print('input is negative!')   # alternative action\n",
    "else:                             # if none of the above conditions are met\n",
    "    print('input is zero!')       # then execute this action\n",
    "    "
   ]
  },
  {
   "cell_type": "markdown",
   "metadata": {},
   "source": [
    "<h3>4.2 FOR</h3>\n",
    "\n",
    "Loops provide you with the ability to loop through any list and execute a certain action on each element within that list. "
   ]
  },
  {
   "cell_type": "code",
   "execution_count": 29,
   "metadata": {},
   "outputs": [
    {
     "name": "stdout",
     "output_type": "stream",
     "text": [
      "The user name is Cindy\n",
      "The user name is Adam\n",
      "The user name is Steve\n",
      "The user name is Stephanie\n",
      "The user name is Ali\n",
      "The user name is Matt\n",
      "The user name is Connie\n",
      "The user name is Katie\n",
      "The user name is Michelle\n",
      "The user name is Eric\n"
     ]
    }
   ],
   "source": [
    "for user in users:\n",
    "    print ('The user name is ' + user)\n"
   ]
  },
  {
   "cell_type": "markdown",
   "metadata": {},
   "source": [
    "Printing is just one action you can take. There are so many other more complex operations that you can perform on elements of a sequence. For example, you can perform mathematical operations. Can you explain what the code below is doing?"
   ]
  },
  {
   "cell_type": "code",
   "execution_count": 31,
   "metadata": {},
   "outputs": [
    {
     "name": "stdout",
     "output_type": "stream",
     "text": [
      "Cindy\t32\n",
      "Adam\t0\n",
      "Steve\t20\n",
      "Stephanie\t10\n",
      "Ali\t50\n",
      "Matt\t5\n",
      "Connie\t10\n",
      "Katie\t11\n",
      "Michelle\t2400\n",
      "Eric\t3\n"
     ]
    }
   ],
   "source": [
    "for name in combined_df_tr['User_Name']:\n",
    "    if (name == 'Cindy'):\n",
    "        new_score = int(combined_df_tr.loc[combined_df_tr['User_Name']==name, 'Posts_Per_Month'] + 2)\n",
    "        print(name + '\\t' + str(new_score))\n",
    "    else:\n",
    "        new_score = int(combined_df_tr.loc[combined_df_tr['User_Name']==name, 'Posts_Per_Month'])\n",
    "        print(name + '\\t' + str(new_score))"
   ]
  },
  {
   "cell_type": "code",
   "execution_count": 32,
   "metadata": {},
   "outputs": [
    {
     "name": "stdout",
     "output_type": "stream",
     "text": [
      "not detected\n",
      "not detected\n",
      "not detected\n",
      "not detected\n",
      "not detected\n",
      "detected\n"
     ]
    }
   ],
   "source": [
    "# for loop to detect a special character in a character string\n",
    "\n",
    "for letter in 'hello!':\n",
    "    if letter == '!':\n",
    "        print('detected')\n",
    "    else:\n",
    "        print('not detected')\n",
    "\n"
   ]
  },
  {
   "cell_type": "code",
   "execution_count": 33,
   "metadata": {},
   "outputs": [
    {
     "name": "stdout",
     "output_type": "stream",
     "text": [
      "Apple or Orange was detected\n",
      "Apple or Orange was detected\n"
     ]
    }
   ],
   "source": [
    "# for loop to detect words in a list\n",
    "for word in ['apple','orange','banana','strawberry']:\n",
    "    if word in ['apple','orange']:\n",
    "        print('Apple or Orange was detected')\n"
   ]
  },
  {
   "cell_type": "markdown",
   "metadata": {},
   "source": [
    "<h4>Challenge 3.0: Binarizing a Variable </h4>\n",
    "Can you create a new variable for internet speed with the values 'fast' and 'slow' using the speed cut-off of 10 MB per second (hint: You can use a combination of a for loop and if statements)"
   ]
  },
  {
   "cell_type": "code",
   "execution_count": 31,
   "metadata": {},
   "outputs": [
    {
     "name": "stdout",
     "output_type": "stream",
     "text": [
      "Fast\n",
      "Slow\n",
      "Fast\n",
      "Fast\n",
      "Fast\n",
      "Slow\n",
      "Fast\n",
      "Fast\n",
      "Fast\n",
      "Slow\n"
     ]
    }
   ],
   "source": [
    "for speed in combined_df_tr['Internet_Speed_MB']:\n",
    "    if (speed >=10):\n",
    "        print ('Fast')\n",
    "    else:\n",
    "        print ('Slow')"
   ]
  },
  {
   "cell_type": "code",
   "execution_count": 32,
   "metadata": {},
   "outputs": [
    {
     "data": {
      "text/plain": [
       "['Fast',\n",
       " 'Slow',\n",
       " 'Fast',\n",
       " 'Fast',\n",
       " 'Fast',\n",
       " 'Slow',\n",
       " 'Fast',\n",
       " 'Fast',\n",
       " 'Fast',\n",
       " 'Slow']"
      ]
     },
     "execution_count": 32,
     "metadata": {},
     "output_type": "execute_result"
    }
   ],
   "source": [
    "speed_list = []\n",
    "for speed in combined_df_tr['Internet_Speed_MB']:\n",
    "    if (speed >=10):\n",
    "        speed_list.append('Fast')\n",
    "    else:\n",
    "        speed_list.append('Slow')\n",
    "\n",
    "speed_list\n"
   ]
  },
  {
   "cell_type": "markdown",
   "metadata": {},
   "source": [
    "<h2>5.0 Functions</h2>\n",
    "\n",
    "Functions are a great way to combine everything we have learned so far! A function is a block of code that can contain a mix of conditional logic, variable definitions, loops and actions. The intention of a functions is to take in a number of input variables and return actions/decisions. Each function is usually developed to perform a specific task. Functions can then come together to produce a pipeline. \n",
    "\n",
    "Let's start with a simple function that simply takes your name and prints a personalized greeting! "
   ]
  },
  {
   "cell_type": "code",
   "execution_count": 33,
   "metadata": {},
   "outputs": [],
   "source": [
    "def my_function(name_input):                            # here you define your function name. notice the indentation\n",
    "  print(\"Hello \" + name_input + \"! How are you today?\") # actions that your function is suppose to perform\n"
   ]
  },
  {
   "cell_type": "code",
   "execution_count": 34,
   "metadata": {},
   "outputs": [
    {
     "name": "stdout",
     "output_type": "stream",
     "text": [
      "Hello Fouad! How are you today?\n"
     ]
    }
   ],
   "source": [
    "#let's call this function and pass it your name!\n",
    "my_function('Fouad')                                    # you can call your function. try changing what you pass to it"
   ]
  },
  {
   "cell_type": "markdown",
   "metadata": {},
   "source": [
    "<h4>Challenge 4.0: Write your first function!</h4>\n",
    "\n",
    "Let's write a function that calculates the average number of posts from a list of post counts that gets passed to it:"
   ]
  },
  {
   "cell_type": "code",
   "execution_count": 49,
   "metadata": {},
   "outputs": [],
   "source": [
    "# let's first define our function\n",
    "def calculate_average(x):  # give it a unique name\n",
    "    #z=0 #this is for sum\n",
    "    #for y in x:\n",
    "    #    z += y \n",
    "    average = sum(x)/len(x)# return the average   \n",
    "    return(average)\n"
   ]
  },
  {
   "cell_type": "code",
   "execution_count": 53,
   "metadata": {},
   "outputs": [
    {
     "data": {
      "text/plain": [
       "12.0"
      ]
     },
     "execution_count": 53,
     "metadata": {},
     "output_type": "execute_result"
    }
   ],
   "source": [
    "calculate_average([20,10,5,1,0,10,20,30])"
   ]
  },
  {
   "cell_type": "code",
   "execution_count": 40,
   "metadata": {},
   "outputs": [],
   "source": [
    "# now that our function is defined, let's try calling it and passing it some numbers\n",
    "calculate_average(combined_df_tr['Posts_Per_Month'])"
   ]
  },
  {
   "cell_type": "code",
   "execution_count": 0,
   "metadata": {},
   "outputs": [],
   "source": []
  },
  {
   "cell_type": "markdown",
   "metadata": {},
   "source": [
    "Congratulations! You just wrote your first function! This function actually exists in Python and it is called mean(). Let's try running it and see if we get the same results.\n"
   ]
  },
  {
   "cell_type": "code",
   "execution_count": 52,
   "metadata": {},
   "outputs": [
    {
     "name": "stdout",
     "output_type": "stream",
     "text": [
      "12\n"
     ]
    }
   ],
   "source": [
    "from statistics import mean \n",
    "print(mean([20,10,5,1,0,10,20,30]))"
   ]
  },
  {
   "cell_type": "markdown",
   "metadata": {},
   "source": [
    "<h2>6.0 Plotting</h2>\n",
    "\n",
    "Plotting is a great way to visualize relationships that might exist in your data. Python has a variety of packages that can be used to perform plotting. We will be using a package called `seaborn` to generate simple scatterplots. This package was selected due to it ease of use and well integration with data frames."
   ]
  },
  {
   "cell_type": "code",
   "execution_count": 54,
   "metadata": {},
   "outputs": [],
   "source": [
    "# import the packages that we need\n",
    "import numpy as np\n",
    "import pandas as pd\n",
    "import seaborn as sns\n",
    "import matplotlib.pyplot as plt\n",
    "%matplotlib inline"
   ]
  },
  {
   "cell_type": "code",
   "execution_count": 55,
   "metadata": {},
   "outputs": [
    {
     "data": {
      "text/plain": [
       "<matplotlib.axes._subplots.AxesSubplot at 0x7f14f284ed68>"
      ]
     },
     "execution_count": 55,
     "metadata": {},
     "output_type": "execute_result"
    },
    {
     "data": {
      "image/png": "[encoded data removed]",
      "text/plain": [
       "<Figure size 432x288 with 1 Axes>"
      ]
     },
     "execution_count": 55,
     "metadata": {
      "image/png": {
       "height": 264,
       "width": 393
      }
     },
     "output_type": "execute_result"
    }
   ],
   "source": [
    "# generate a scatterplot of Posts Per Month and Internet Speed\n",
    "sns.scatterplot(x='Posts_Per_Month',y='Internet_Speed_MB',data=combined_df_tr)"
   ]
  },
  {
   "cell_type": "code",
   "execution_count": 56,
   "metadata": {},
   "outputs": [
    {
     "data": {
      "image/png": "[encoded data removed]",
      "text/plain": [
       "<Figure size 432x288 with 1 Axes>"
      ]
     },
     "execution_count": 56,
     "metadata": {
      "image/png": {
       "height": 264,
       "width": 391
      }
     },
     "output_type": "execute_result"
    }
   ],
   "source": [
    "#check the distribution of the variable posts per month\n",
    "sns.distplot(combined_df_tr['Posts_Per_Month'],hist=False);"
   ]
  },
  {
   "cell_type": "code",
   "execution_count": 57,
   "metadata": {},
   "outputs": [
    {
     "data": {
      "image/png": "[encoded data removed]",
      "text/plain": [
       "<Figure size 432x288 with 1 Axes>"
      ]
     },
     "execution_count": 57,
     "metadata": {
      "image/png": {
       "height": 264,
       "width": 386
      }
     },
     "output_type": "execute_result"
    }
   ],
   "source": [
    "#let's remove outliers and plot the relationship again!\n",
    "no_outliers= combined_df_tr.loc[combined_df_tr['Posts_Per_Month']<100,:]\n",
    "\n",
    "#regenerate the distribution after outlier removal\n",
    "sns.distplot(no_outliers['Posts_Per_Month'],hist=False);\n"
   ]
  },
  {
   "cell_type": "code",
   "execution_count": 58,
   "metadata": {},
   "outputs": [
    {
     "data": {
      "text/plain": [
       "<matplotlib.axes._subplots.AxesSubplot at 0x7f14f2688518>"
      ]
     },
     "execution_count": 58,
     "metadata": {},
     "output_type": "execute_result"
    },
    {
     "data": {
      "image/png": "[encoded data removed]",
      "text/plain": [
       "<Figure size 432x288 with 1 Axes>"
      ]
     },
     "execution_count": 58,
     "metadata": {
      "image/png": {
       "height": 264,
       "width": 384
      }
     },
     "output_type": "execute_result"
    }
   ],
   "source": [
    "#scatterplot to show relationship between Internet speed and posts per month\n",
    "sns.scatterplot(x='Posts_Per_Month',y='Internet_Speed_MB',data=no_outliers)"
   ]
  },
  {
   "cell_type": "code",
   "execution_count": 59,
   "metadata": {},
   "outputs": [
    {
     "data": {
      "text/plain": [
       "<matplotlib.axes._subplots.AxesSubplot at 0x7f14f265ea90>"
      ]
     },
     "execution_count": 59,
     "metadata": {},
     "output_type": "execute_result"
    },
    {
     "data": {
      "image/png": "[encoded data removed]",
      "text/plain": [
       "<Figure size 432x288 with 1 Axes>"
      ]
     },
     "execution_count": 59,
     "metadata": {
      "image/png": {
       "height": 264,
       "width": 397
      }
     },
     "output_type": "execute_result"
    }
   ],
   "source": [
    "#let's visualize posts per month distributions in story users vs no story users\n",
    "sns.boxplot(x='Used_Stories',y='Posts_Per_Month',data=combined_df_tr)"
   ]
  },
  {
   "cell_type": "code",
   "execution_count": 60,
   "metadata": {},
   "outputs": [
    {
     "data": {
      "text/plain": [
       "<matplotlib.axes._subplots.AxesSubplot at 0x7f14f25d31d0>"
      ]
     },
     "execution_count": 60,
     "metadata": {},
     "output_type": "execute_result"
    },
    {
     "data": {
      "image/png": "[encoded data removed]",
      "text/plain": [
       "<Figure size 432x288 with 1 Axes>"
      ]
     },
     "execution_count": 60,
     "metadata": {
      "image/png": {
       "height": 264,
       "width": 384
      }
     },
     "output_type": "execute_result"
    }
   ],
   "source": [
    "#visualize without outliers\n",
    "sns.boxplot(x='Used_Stories',y='Posts_Per_Month',data=no_outliers)"
   ]
  },
  {
   "cell_type": "code",
   "execution_count": 61,
   "metadata": {},
   "outputs": [
    {
     "data": {
      "image/png": "[encoded data removed]",
      "text/plain": [
       "<Figure size 432x288 with 1 Axes>"
      ]
     },
     "execution_count": 61,
     "metadata": {
      "image/png": {
       "height": 264,
       "width": 386
      }
     },
     "output_type": "execute_result"
    }
   ],
   "source": [
    "#the above can be visualized in a different way. Each boxplot represents a distribution. Let's try to visualize each distribution(Posts per month for story uses vs posts per month for non story users)\n",
    "\n",
    "#story users\n",
    "sns.distplot(no_outliers.loc[no_outliers.Used_Stories==True,'Posts_Per_Month'],hist=False);"
   ]
  },
  {
   "cell_type": "code",
   "execution_count": 62,
   "metadata": {},
   "outputs": [
    {
     "data": {
      "image/png": "[encoded data removed]",
      "text/plain": [
       "<Figure size 432x288 with 1 Axes>"
      ]
     },
     "execution_count": 62,
     "metadata": {
      "image/png": {
       "height": 264,
       "width": 380
      }
     },
     "output_type": "execute_result"
    }
   ],
   "source": [
    "#non story users. compare the center of the distributions. Do you see a difference?\n",
    "sns.distplot(no_outliers.loc[no_outliers.Used_Stories==False,'Posts_Per_Month'],hist=False);"
   ]
  },
  {
   "cell_type": "code",
   "execution_count": 39,
   "metadata": {},
   "outputs": [
    {
     "data": {
      "text/plain": [
       "<matplotlib.axes._subplots.AxesSubplot at 0x7f662f420da0>"
      ]
     },
     "execution_count": 39,
     "metadata": {},
     "output_type": "execute_result"
    },
    {
     "data": {
      "image/png": "[encoded data removed]",
      "text/plain": [
       "<Figure size 432x288 with 1 Axes>"
      ]
     },
     "execution_count": 39,
     "metadata": {
      "image/png": {
       "height": 264,
       "width": 384
      }
     },
     "output_type": "execute_result"
    }
   ],
   "source": [
    "#visualize the relationship between internet speed and story usage\n",
    "sns.boxplot(x='Used_Stories',y='Internet_Speed_MB',data=no_outliers)"
   ]
  },
  {
   "cell_type": "code",
   "execution_count": 63,
   "metadata": {},
   "outputs": [
    {
     "name": "stderr",
     "output_type": "stream",
     "text": [
      "/usr/local/lib/python3.6/dist-packages/ipykernel/__main__.py:2: SettingWithCopyWarning: \n",
      "A value is trying to be set on a copy of a slice from a DataFrame.\n",
      "Try using .loc[row_indexer,col_indexer] = value instead\n",
      "\n",
      "See the caveats in the documentation: http://pandas.pydata.org/pandas-docs/stable/indexing.html#indexing-view-versus-copy\n",
      "  from ipykernel import kernelapp as app\n"
     ]
    }
   ],
   "source": [
    "#let's add a new column called User Age\n",
    "no_outliers['User_Age']=[20,25,30,32,45,20,18,17,46]"
   ]
  },
  {
   "cell_type": "markdown",
   "metadata": {},
   "source": [
    "<h4>Challenge 5.0: Age vs. Story Usage</h4>\n",
    "generate a boxplot for user age and the used_stories variable. Do you see a relationship?"
   ]
  },
  {
   "cell_type": "code",
   "execution_count": 64,
   "metadata": {},
   "outputs": [
    {
     "data": {
      "text/plain": [
       "<matplotlib.axes._subplots.AxesSubplot at 0x7f14f24d8b00>"
      ]
     },
     "execution_count": 64,
     "metadata": {},
     "output_type": "execute_result"
    },
    {
     "data": {
      "image/png": "[encoded data removed]",
      "text/plain": [
       "<Figure size 432x288 with 1 Axes>"
      ]
     },
     "execution_count": 64,
     "metadata": {
      "image/png": {
       "height": 264,
       "width": 384
      }
     },
     "output_type": "execute_result"
    }
   ],
   "source": [
    "#do you see any relatioship with Story usage?\n",
    "sns.boxplot(x='Used_Stories',y='User_Age',data=no_outliers)"
   ]
  },
  {
   "cell_type": "markdown",
   "metadata": {},
   "source": [
    "<h2>7.0 File Handling</h2>\n",
    "\n",
    "So far, we have covered one method to create data frames. The other way to create a data frame is by reading a data file from your computer. A lot of the datasets that you will be working on are saved as .txt or .csv files. TXT files are usually tab or space delimitted files while CSV are comma delimited files. Let's try reading the files that we will be using tomorrow to build the recommendation system.  "
   ]
  },
  {
   "cell_type": "code",
   "execution_count": 54,
   "metadata": {},
   "outputs": [],
   "source": [
    "# provide file name and what the delimiter is\n",
    "df = pd.read_csv('/home/user/datasets/heart.csv', sep=',')"
   ]
  },
  {
   "cell_type": "code",
   "execution_count": 0,
   "metadata": {},
   "outputs": [],
   "source": []
  },
  {
   "cell_type": "markdown",
   "metadata": {},
   "source": [
    "The above line of code reads the file and saves it as a data frame called df. Now we can slice, manipulate, and graph this data frame just like we did earlier."
   ]
  },
  {
   "cell_type": "code",
   "execution_count": 55,
   "metadata": {},
   "outputs": [
    {
     "data": {
      "text/html": [
       "<div>\n",
       "<style scoped>\n",
       "    .dataframe tbody tr th:only-of-type {\n",
       "        vertical-align: middle;\n",
       "    }\n",
       "\n",
       "    .dataframe tbody tr th {\n",
       "        vertical-align: top;\n",
       "    }\n",
       "\n",
       "    .dataframe thead th {\n",
       "        text-align: right;\n",
       "    }\n",
       "</style>\n",
       "<table border=\"1\" class=\"dataframe\">\n",
       "  <thead>\n",
       "    <tr style=\"text-align: right;\">\n",
       "      <th></th>\n",
       "      <th>age</th>\n",
       "      <th>sex</th>\n",
       "      <th>cp</th>\n",
       "      <th>trestbps</th>\n",
       "      <th>chol</th>\n",
       "      <th>fbs</th>\n",
       "      <th>restecg</th>\n",
       "      <th>thalach</th>\n",
       "      <th>exang</th>\n",
       "      <th>oldpeak</th>\n",
       "      <th>slope</th>\n",
       "      <th>ca</th>\n",
       "      <th>thal</th>\n",
       "      <th>target</th>\n",
       "    </tr>\n",
       "  </thead>\n",
       "  <tbody>\n",
       "    <tr>\n",
       "      <th>0</th>\n",
       "      <td>63</td>\n",
       "      <td>1</td>\n",
       "      <td>3</td>\n",
       "      <td>145</td>\n",
       "      <td>233</td>\n",
       "      <td>1</td>\n",
       "      <td>0</td>\n",
       "      <td>150</td>\n",
       "      <td>0</td>\n",
       "      <td>2.3</td>\n",
       "      <td>0</td>\n",
       "      <td>0</td>\n",
       "      <td>1</td>\n",
       "      <td>1</td>\n",
       "    </tr>\n",
       "    <tr>\n",
       "      <th>1</th>\n",
       "      <td>37</td>\n",
       "      <td>1</td>\n",
       "      <td>2</td>\n",
       "      <td>130</td>\n",
       "      <td>250</td>\n",
       "      <td>0</td>\n",
       "      <td>1</td>\n",
       "      <td>187</td>\n",
       "      <td>0</td>\n",
       "      <td>3.5</td>\n",
       "      <td>0</td>\n",
       "      <td>0</td>\n",
       "      <td>2</td>\n",
       "      <td>1</td>\n",
       "    </tr>\n",
       "    <tr>\n",
       "      <th>2</th>\n",
       "      <td>41</td>\n",
       "      <td>0</td>\n",
       "      <td>1</td>\n",
       "      <td>130</td>\n",
       "      <td>204</td>\n",
       "      <td>0</td>\n",
       "      <td>0</td>\n",
       "      <td>172</td>\n",
       "      <td>0</td>\n",
       "      <td>1.4</td>\n",
       "      <td>2</td>\n",
       "      <td>0</td>\n",
       "      <td>2</td>\n",
       "      <td>1</td>\n",
       "    </tr>\n",
       "    <tr>\n",
       "      <th>3</th>\n",
       "      <td>56</td>\n",
       "      <td>1</td>\n",
       "      <td>1</td>\n",
       "      <td>120</td>\n",
       "      <td>236</td>\n",
       "      <td>0</td>\n",
       "      <td>1</td>\n",
       "      <td>178</td>\n",
       "      <td>0</td>\n",
       "      <td>0.8</td>\n",
       "      <td>2</td>\n",
       "      <td>0</td>\n",
       "      <td>2</td>\n",
       "      <td>1</td>\n",
       "    </tr>\n",
       "    <tr>\n",
       "      <th>4</th>\n",
       "      <td>57</td>\n",
       "      <td>0</td>\n",
       "      <td>0</td>\n",
       "      <td>120</td>\n",
       "      <td>354</td>\n",
       "      <td>0</td>\n",
       "      <td>1</td>\n",
       "      <td>163</td>\n",
       "      <td>1</td>\n",
       "      <td>0.6</td>\n",
       "      <td>2</td>\n",
       "      <td>0</td>\n",
       "      <td>2</td>\n",
       "      <td>1</td>\n",
       "    </tr>\n",
       "  </tbody>\n",
       "</table>\n",
       "</div>"
      ]
     },
     "execution_count": 55,
     "metadata": {},
     "output_type": "execute_result"
    }
   ],
   "source": [
    "# view the first few lines of the file\n",
    "df.head()"
   ]
  },
  {
   "cell_type": "code",
   "execution_count": 0,
   "metadata": {},
   "outputs": [],
   "source": []
  }
 ],
 "metadata": {
  "kernelspec": {
   "display_name": "Python 3",
   "language": "python",
   "name": "python3"
  },
  "language_info": {
   "codemirror_mode": {
    "name": "ipython",
    "version": 3
   },
   "file_extension": ".py",
   "mimetype": "text/x-python",
   "name": "python",
   "nbconvert_exporter": "python",
   "pygments_lexer": "ipython3",
   "version": "3.7.1"
  }
 },
 "nbformat": 4,
 "nbformat_minor": 4
}
